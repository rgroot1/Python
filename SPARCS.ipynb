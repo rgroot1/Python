{
 "cells": [
  {
   "cell_type": "markdown",
   "metadata": {},
   "source": [
    "## Predicting Length-of-Stay of Inpatient at Hospitals\n",
    "* Background: The Statewide Planning and Research Cooperative System (SPARCS) inpatient de-identified dataset contains discharge level detail on patient characteristics, diagnoses, treatments, services, and charges in 2015.\n",
    "* Goal: Predict the length of stay of a patient upon admission. To help healthcare providers reduce cost savings, prioritize hospital capacity and avoid adverse patient events (e.g.HACs). \n",
    "* Author: Rainie Gu. Feel free to contact if you have any questions at guyurun@gmail.com\n",
    "\n",
    "\n",
    "<a id='hyperlink'></a>\n",
    "####  Navigating Question List \n",
    "\n",
    "I've created hyperlinks to cells that answers the questions in instruction. You can click the link as a table of contents that you want to link to. And you can also read the notebook by following the order of my thinking process.\n",
    "\n",
    "* Concepts\n",
    "    * [Which ML model would you use to tackle that problem](#1) \n",
    "    * [Which assumptions do you have to make given the available data?](#2)\n",
    "    * [Which feature(s) have more predictive power for the given task? Why?](#3)\n",
    "* Applications\n",
    "    * [What is your model’s performance?](#4)\n",
    "    * [For which cases does your model perform poorly? Why?](#5)\n",
    "    * [If you had more time to work on this, how would you increase your current performance by 10%? Please explain.](#6)\n",
    "    \n",
    "* Questions\n",
    "    * [Propose 2 additional questions that might be answered using this dataset. How you would answer these questions? Elaborate.](#7)"
   ]
  },
  {
   "cell_type": "code",
   "execution_count": 1,
   "metadata": {},
   "outputs": [],
   "source": [
    "import warnings\n",
    "warnings.simplefilter('ignore')\n",
    "import time\n",
    "import numpy as np\n",
    "import pandas as pd\n",
    "import seaborn as sns\n",
    "import matplotlib.pyplot as plt\n",
    "%matplotlib inline\n",
    "\n",
    "pd.set_option('display.max_columns',500)\n",
    "pd.set_option('display.max_rows',200)\n",
    "\n",
    "pd.set_option('display.float_format', lambda x: '%.3f' % x)"
   ]
  },
  {
   "cell_type": "code",
   "execution_count": 2,
   "metadata": {},
   "outputs": [
    {
     "data": {
      "text/html": [
       "<div>\n",
       "<style scoped>\n",
       "    .dataframe tbody tr th:only-of-type {\n",
       "        vertical-align: middle;\n",
       "    }\n",
       "\n",
       "    .dataframe tbody tr th {\n",
       "        vertical-align: top;\n",
       "    }\n",
       "\n",
       "    .dataframe thead th {\n",
       "        text-align: right;\n",
       "    }\n",
       "</style>\n",
       "<table border=\"1\" class=\"dataframe\">\n",
       "  <thead>\n",
       "    <tr style=\"text-align: right;\">\n",
       "      <th></th>\n",
       "      <th>Health Service Area</th>\n",
       "      <th>Hospital County</th>\n",
       "      <th>Operating Certificate Number</th>\n",
       "      <th>Facility Id</th>\n",
       "      <th>Facility Name</th>\n",
       "      <th>Age Group</th>\n",
       "      <th>Zip Code - 3 digits</th>\n",
       "      <th>Gender</th>\n",
       "      <th>Race</th>\n",
       "      <th>Ethnicity</th>\n",
       "      <th>Length of Stay</th>\n",
       "      <th>Type of Admission</th>\n",
       "      <th>Patient Disposition</th>\n",
       "      <th>Discharge Year</th>\n",
       "      <th>CCS Diagnosis Code</th>\n",
       "      <th>CCS Diagnosis Description</th>\n",
       "      <th>CCS Procedure Code</th>\n",
       "      <th>CCS Procedure Description</th>\n",
       "      <th>APR DRG Code</th>\n",
       "      <th>APR DRG Description</th>\n",
       "      <th>APR MDC Code</th>\n",
       "      <th>APR MDC Description</th>\n",
       "      <th>APR Severity of Illness Code</th>\n",
       "      <th>APR Severity of Illness Description</th>\n",
       "      <th>APR Risk of Mortality</th>\n",
       "      <th>APR Medical Surgical Description</th>\n",
       "      <th>Payment Typology 1</th>\n",
       "      <th>Payment Typology 2</th>\n",
       "      <th>Payment Typology 3</th>\n",
       "      <th>Attending Provider License Number</th>\n",
       "      <th>Operating Provider License Number</th>\n",
       "      <th>Other Provider License Number</th>\n",
       "      <th>Birth Weight</th>\n",
       "      <th>Abortion Edit Indicator</th>\n",
       "      <th>Emergency Department Indicator</th>\n",
       "      <th>Total Charges</th>\n",
       "      <th>Total Costs</th>\n",
       "    </tr>\n",
       "  </thead>\n",
       "  <tbody>\n",
       "    <tr>\n",
       "      <th>0</th>\n",
       "      <td>Western NY</td>\n",
       "      <td>Allegany</td>\n",
       "      <td>226700.000</td>\n",
       "      <td>37.000</td>\n",
       "      <td>Cuba Memorial Hospital Inc</td>\n",
       "      <td>70 or Older</td>\n",
       "      <td>147</td>\n",
       "      <td>F</td>\n",
       "      <td>White</td>\n",
       "      <td>Not Span/Hispanic</td>\n",
       "      <td>4</td>\n",
       "      <td>Urgent</td>\n",
       "      <td>Home or Self Care</td>\n",
       "      <td>2015</td>\n",
       "      <td>122</td>\n",
       "      <td>Pneumonia (except that caused by tuberculosis ...</td>\n",
       "      <td>0</td>\n",
       "      <td>NO PROC</td>\n",
       "      <td>139</td>\n",
       "      <td>Other pneumonia</td>\n",
       "      <td>4</td>\n",
       "      <td>Diseases and Disorders of the Respiratory System</td>\n",
       "      <td>2</td>\n",
       "      <td>Moderate</td>\n",
       "      <td>Minor</td>\n",
       "      <td>Medical</td>\n",
       "      <td>Medicare</td>\n",
       "      <td>Private Health Insurance</td>\n",
       "      <td>NaN</td>\n",
       "      <td>90335341.000</td>\n",
       "      <td>nan</td>\n",
       "      <td>nan</td>\n",
       "      <td>0</td>\n",
       "      <td>N</td>\n",
       "      <td>Y</td>\n",
       "      <td>5333.900</td>\n",
       "      <td>4818.420</td>\n",
       "    </tr>\n",
       "    <tr>\n",
       "      <th>1</th>\n",
       "      <td>Western NY</td>\n",
       "      <td>Allegany</td>\n",
       "      <td>226700.000</td>\n",
       "      <td>37.000</td>\n",
       "      <td>Cuba Memorial Hospital Inc</td>\n",
       "      <td>70 or Older</td>\n",
       "      <td>147</td>\n",
       "      <td>F</td>\n",
       "      <td>White</td>\n",
       "      <td>Not Span/Hispanic</td>\n",
       "      <td>4</td>\n",
       "      <td>Elective</td>\n",
       "      <td>Hosp Basd Medicare Approved Swing Bed</td>\n",
       "      <td>2015</td>\n",
       "      <td>55</td>\n",
       "      <td>Fluid and electrolyte disorders</td>\n",
       "      <td>0</td>\n",
       "      <td>NO PROC</td>\n",
       "      <td>422</td>\n",
       "      <td>Hypovolemia &amp; related electrolyte disorders</td>\n",
       "      <td>10</td>\n",
       "      <td>Endocrine, Nutritional and Metabolic Diseases ...</td>\n",
       "      <td>2</td>\n",
       "      <td>Moderate</td>\n",
       "      <td>Moderate</td>\n",
       "      <td>Medical</td>\n",
       "      <td>Medicare</td>\n",
       "      <td>NaN</td>\n",
       "      <td>NaN</td>\n",
       "      <td>90335341.000</td>\n",
       "      <td>nan</td>\n",
       "      <td>nan</td>\n",
       "      <td>0</td>\n",
       "      <td>N</td>\n",
       "      <td>Y</td>\n",
       "      <td>4865.990</td>\n",
       "      <td>4588.780</td>\n",
       "    </tr>\n",
       "    <tr>\n",
       "      <th>2</th>\n",
       "      <td>Western NY</td>\n",
       "      <td>Allegany</td>\n",
       "      <td>226700.000</td>\n",
       "      <td>37.000</td>\n",
       "      <td>Cuba Memorial Hospital Inc</td>\n",
       "      <td>70 or Older</td>\n",
       "      <td>147</td>\n",
       "      <td>F</td>\n",
       "      <td>White</td>\n",
       "      <td>Not Span/Hispanic</td>\n",
       "      <td>4</td>\n",
       "      <td>Urgent</td>\n",
       "      <td>Home or Self Care</td>\n",
       "      <td>2015</td>\n",
       "      <td>122</td>\n",
       "      <td>Pneumonia (except that caused by tuberculosis ...</td>\n",
       "      <td>202</td>\n",
       "      <td>ELECTROCARDIOGRAM</td>\n",
       "      <td>139</td>\n",
       "      <td>Other pneumonia</td>\n",
       "      <td>4</td>\n",
       "      <td>Diseases and Disorders of the Respiratory System</td>\n",
       "      <td>1</td>\n",
       "      <td>Minor</td>\n",
       "      <td>Minor</td>\n",
       "      <td>Medical</td>\n",
       "      <td>Medicare</td>\n",
       "      <td>Private Health Insurance</td>\n",
       "      <td>NaN</td>\n",
       "      <td>90335341.000</td>\n",
       "      <td>167816.000</td>\n",
       "      <td>nan</td>\n",
       "      <td>0</td>\n",
       "      <td>N</td>\n",
       "      <td>Y</td>\n",
       "      <td>5901.540</td>\n",
       "      <td>5559.560</td>\n",
       "    </tr>\n",
       "    <tr>\n",
       "      <th>3</th>\n",
       "      <td>Western NY</td>\n",
       "      <td>Allegany</td>\n",
       "      <td>226700.000</td>\n",
       "      <td>37.000</td>\n",
       "      <td>Cuba Memorial Hospital Inc</td>\n",
       "      <td>50 to 69</td>\n",
       "      <td>147</td>\n",
       "      <td>F</td>\n",
       "      <td>White</td>\n",
       "      <td>Not Span/Hispanic</td>\n",
       "      <td>2</td>\n",
       "      <td>Elective</td>\n",
       "      <td>Home or Self Care</td>\n",
       "      <td>2015</td>\n",
       "      <td>55</td>\n",
       "      <td>Fluid and electrolyte disorders</td>\n",
       "      <td>0</td>\n",
       "      <td>NO PROC</td>\n",
       "      <td>249</td>\n",
       "      <td>Other gastroenteritis, nausa &amp; vomiting</td>\n",
       "      <td>6</td>\n",
       "      <td>Diseases and Disorders of the Digestive System</td>\n",
       "      <td>2</td>\n",
       "      <td>Moderate</td>\n",
       "      <td>Minor</td>\n",
       "      <td>Medical</td>\n",
       "      <td>Medicare</td>\n",
       "      <td>NaN</td>\n",
       "      <td>NaN</td>\n",
       "      <td>90335341.000</td>\n",
       "      <td>nan</td>\n",
       "      <td>nan</td>\n",
       "      <td>0</td>\n",
       "      <td>N</td>\n",
       "      <td>Y</td>\n",
       "      <td>3619.080</td>\n",
       "      <td>3567.250</td>\n",
       "    </tr>\n",
       "    <tr>\n",
       "      <th>4</th>\n",
       "      <td>Western NY</td>\n",
       "      <td>Allegany</td>\n",
       "      <td>226700.000</td>\n",
       "      <td>37.000</td>\n",
       "      <td>Cuba Memorial Hospital Inc</td>\n",
       "      <td>70 or Older</td>\n",
       "      <td>147</td>\n",
       "      <td>M</td>\n",
       "      <td>White</td>\n",
       "      <td>Not Span/Hispanic</td>\n",
       "      <td>2</td>\n",
       "      <td>Elective</td>\n",
       "      <td>Home or Self Care</td>\n",
       "      <td>2015</td>\n",
       "      <td>122</td>\n",
       "      <td>Pneumonia (except that caused by tuberculosis ...</td>\n",
       "      <td>0</td>\n",
       "      <td>NO PROC</td>\n",
       "      <td>139</td>\n",
       "      <td>Other pneumonia</td>\n",
       "      <td>4</td>\n",
       "      <td>Diseases and Disorders of the Respiratory System</td>\n",
       "      <td>1</td>\n",
       "      <td>Minor</td>\n",
       "      <td>Moderate</td>\n",
       "      <td>Medical</td>\n",
       "      <td>Medicare</td>\n",
       "      <td>Blue Cross/Blue Shield</td>\n",
       "      <td>Private Health Insurance</td>\n",
       "      <td>90335341.000</td>\n",
       "      <td>nan</td>\n",
       "      <td>nan</td>\n",
       "      <td>0</td>\n",
       "      <td>N</td>\n",
       "      <td>Y</td>\n",
       "      <td>3185.870</td>\n",
       "      <td>3167.890</td>\n",
       "    </tr>\n",
       "  </tbody>\n",
       "</table>\n",
       "</div>"
      ],
      "text/plain": [
       "  Health Service Area Hospital County  Operating Certificate Number  \\\n",
       "0          Western NY        Allegany                    226700.000   \n",
       "1          Western NY        Allegany                    226700.000   \n",
       "2          Western NY        Allegany                    226700.000   \n",
       "3          Western NY        Allegany                    226700.000   \n",
       "4          Western NY        Allegany                    226700.000   \n",
       "\n",
       "   Facility Id               Facility Name    Age Group Zip Code - 3 digits  \\\n",
       "0       37.000  Cuba Memorial Hospital Inc  70 or Older                 147   \n",
       "1       37.000  Cuba Memorial Hospital Inc  70 or Older                 147   \n",
       "2       37.000  Cuba Memorial Hospital Inc  70 or Older                 147   \n",
       "3       37.000  Cuba Memorial Hospital Inc     50 to 69                 147   \n",
       "4       37.000  Cuba Memorial Hospital Inc  70 or Older                 147   \n",
       "\n",
       "  Gender   Race          Ethnicity Length of Stay Type of Admission  \\\n",
       "0      F  White  Not Span/Hispanic              4            Urgent   \n",
       "1      F  White  Not Span/Hispanic              4          Elective   \n",
       "2      F  White  Not Span/Hispanic              4            Urgent   \n",
       "3      F  White  Not Span/Hispanic              2          Elective   \n",
       "4      M  White  Not Span/Hispanic              2          Elective   \n",
       "\n",
       "                     Patient Disposition  Discharge Year  CCS Diagnosis Code  \\\n",
       "0                      Home or Self Care            2015                 122   \n",
       "1  Hosp Basd Medicare Approved Swing Bed            2015                  55   \n",
       "2                      Home or Self Care            2015                 122   \n",
       "3                      Home or Self Care            2015                  55   \n",
       "4                      Home or Self Care            2015                 122   \n",
       "\n",
       "                           CCS Diagnosis Description  CCS Procedure Code  \\\n",
       "0  Pneumonia (except that caused by tuberculosis ...                   0   \n",
       "1                    Fluid and electrolyte disorders                   0   \n",
       "2  Pneumonia (except that caused by tuberculosis ...                 202   \n",
       "3                    Fluid and electrolyte disorders                   0   \n",
       "4  Pneumonia (except that caused by tuberculosis ...                   0   \n",
       "\n",
       "  CCS Procedure Description  APR DRG Code  \\\n",
       "0                   NO PROC           139   \n",
       "1                   NO PROC           422   \n",
       "2         ELECTROCARDIOGRAM           139   \n",
       "3                   NO PROC           249   \n",
       "4                   NO PROC           139   \n",
       "\n",
       "                           APR DRG Description  APR MDC Code  \\\n",
       "0                              Other pneumonia             4   \n",
       "1  Hypovolemia & related electrolyte disorders            10   \n",
       "2                              Other pneumonia             4   \n",
       "3      Other gastroenteritis, nausa & vomiting             6   \n",
       "4                              Other pneumonia             4   \n",
       "\n",
       "                                 APR MDC Description  \\\n",
       "0   Diseases and Disorders of the Respiratory System   \n",
       "1  Endocrine, Nutritional and Metabolic Diseases ...   \n",
       "2   Diseases and Disorders of the Respiratory System   \n",
       "3     Diseases and Disorders of the Digestive System   \n",
       "4   Diseases and Disorders of the Respiratory System   \n",
       "\n",
       "   APR Severity of Illness Code APR Severity of Illness Description  \\\n",
       "0                             2                            Moderate   \n",
       "1                             2                            Moderate   \n",
       "2                             1                               Minor   \n",
       "3                             2                            Moderate   \n",
       "4                             1                               Minor   \n",
       "\n",
       "  APR Risk of Mortality APR Medical Surgical Description Payment Typology 1  \\\n",
       "0                 Minor                          Medical           Medicare   \n",
       "1              Moderate                          Medical           Medicare   \n",
       "2                 Minor                          Medical           Medicare   \n",
       "3                 Minor                          Medical           Medicare   \n",
       "4              Moderate                          Medical           Medicare   \n",
       "\n",
       "         Payment Typology 2        Payment Typology 3  \\\n",
       "0  Private Health Insurance                       NaN   \n",
       "1                       NaN                       NaN   \n",
       "2  Private Health Insurance                       NaN   \n",
       "3                       NaN                       NaN   \n",
       "4    Blue Cross/Blue Shield  Private Health Insurance   \n",
       "\n",
       "   Attending Provider License Number  Operating Provider License Number  \\\n",
       "0                       90335341.000                                nan   \n",
       "1                       90335341.000                                nan   \n",
       "2                       90335341.000                         167816.000   \n",
       "3                       90335341.000                                nan   \n",
       "4                       90335341.000                                nan   \n",
       "\n",
       "   Other Provider License Number  Birth Weight Abortion Edit Indicator  \\\n",
       "0                            nan             0                       N   \n",
       "1                            nan             0                       N   \n",
       "2                            nan             0                       N   \n",
       "3                            nan             0                       N   \n",
       "4                            nan             0                       N   \n",
       "\n",
       "  Emergency Department Indicator  Total Charges  Total Costs  \n",
       "0                              Y       5333.900     4818.420  \n",
       "1                              Y       4865.990     4588.780  \n",
       "2                              Y       5901.540     5559.560  \n",
       "3                              Y       3619.080     3567.250  \n",
       "4                              Y       3185.870     3167.890  "
      ]
     },
     "execution_count": 2,
     "metadata": {},
     "output_type": "execute_result"
    }
   ],
   "source": [
    "df = pd.read_csv('Hospital_Inpatient_Discharges__SPARCS_De-Identified___2015.csv')\n",
    "df.head()"
   ]
  },
  {
   "cell_type": "markdown",
   "metadata": {},
   "source": [
    "### Data Processing"
   ]
  },
  {
   "cell_type": "code",
   "execution_count": 4,
   "metadata": {},
   "outputs": [],
   "source": [
    "df.columns = df.columns.str.replace('-', '')\n",
    "df.columns = df.columns.str.replace(' ', '_')"
   ]
  },
  {
   "cell_type": "code",
   "execution_count": 5,
   "metadata": {},
   "outputs": [
    {
     "data": {
      "text/plain": [
       "(2346931, 37)"
      ]
     },
     "execution_count": 5,
     "metadata": {},
     "output_type": "execute_result"
    }
   ],
   "source": [
    "df.shape"
   ]
  },
  {
   "cell_type": "code",
   "execution_count": 6,
   "metadata": {},
   "outputs": [
    {
     "name": "stdout",
     "output_type": "stream",
     "text": [
      "<class 'pandas.core.frame.DataFrame'>\n",
      "RangeIndex: 2346931 entries, 0 to 2346930\n",
      "Data columns (total 37 columns):\n",
      "Health_Service_Area                    object\n",
      "Hospital_County                        object\n",
      "Operating_Certificate_Number           float64\n",
      "Facility_Id                            float64\n",
      "Facility_Name                          object\n",
      "Age_Group                              object\n",
      "Zip_Code__3_digits                     object\n",
      "Gender                                 object\n",
      "Race                                   object\n",
      "Ethnicity                              object\n",
      "Length_of_Stay                         object\n",
      "Type_of_Admission                      object\n",
      "Patient_Disposition                    object\n",
      "Discharge_Year                         int64\n",
      "CCS_Diagnosis_Code                     int64\n",
      "CCS_Diagnosis_Description              object\n",
      "CCS_Procedure_Code                     int64\n",
      "CCS_Procedure_Description              object\n",
      "APR_DRG_Code                           int64\n",
      "APR_DRG_Description                    object\n",
      "APR_MDC_Code                           int64\n",
      "APR_MDC_Description                    object\n",
      "APR_Severity_of_Illness_Code           int64\n",
      "APR_Severity_of_Illness_Description    object\n",
      "APR_Risk_of_Mortality                  object\n",
      "APR_Medical_Surgical_Description       object\n",
      "Payment_Typology_1                     object\n",
      "Payment_Typology_2                     object\n",
      "Payment_Typology_3                     object\n",
      "Attending_Provider_License_Number      float64\n",
      "Operating_Provider_License_Number      float64\n",
      "Other_Provider_License_Number          float64\n",
      "Birth_Weight                           int64\n",
      "Abortion_Edit_Indicator                object\n",
      "Emergency_Department_Indicator         object\n",
      "Total_Charges                          float64\n",
      "Total_Costs                            float64\n",
      "dtypes: float64(7), int64(7), object(23)\n",
      "memory usage: 662.5+ MB\n"
     ]
    }
   ],
   "source": [
    "df.info()"
   ]
  },
  {
   "cell_type": "code",
   "execution_count": 7,
   "metadata": {},
   "outputs": [
    {
     "data": {
      "text/plain": [
       "Health_Service_Area                    0.124\n",
       "Hospital_County                        0.124\n",
       "Operating_Certificate_Number           0.124\n",
       "Facility_Id                            0.124\n",
       "Facility_Name                          0.000\n",
       "Age_Group                              0.000\n",
       "Zip_Code__3_digits                     0.188\n",
       "Gender                                 0.000\n",
       "Race                                   0.000\n",
       "Ethnicity                              0.000\n",
       "Length_of_Stay                         0.000\n",
       "Type_of_Admission                      0.000\n",
       "Patient_Disposition                    0.000\n",
       "Discharge_Year                         0.000\n",
       "CCS_Diagnosis_Code                     0.000\n",
       "CCS_Diagnosis_Description              0.000\n",
       "CCS_Procedure_Code                     0.000\n",
       "CCS_Procedure_Description              0.000\n",
       "APR_DRG_Code                           0.000\n",
       "APR_DRG_Description                    0.000\n",
       "APR_MDC_Code                           0.000\n",
       "APR_MDC_Description                    0.000\n",
       "APR_Severity_of_Illness_Code           0.000\n",
       "APR_Severity_of_Illness_Description    0.005\n",
       "APR_Risk_of_Mortality                  0.005\n",
       "APR_Medical_Surgical_Description       0.000\n",
       "Payment_Typology_1                     0.000\n",
       "Payment_Typology_2                    32.480\n",
       "Payment_Typology_3                    70.113\n",
       "Attending_Provider_License_Number      0.124\n",
       "Operating_Provider_License_Number     26.113\n",
       "Other_Provider_License_Number         96.959\n",
       "Birth_Weight                           0.000\n",
       "Abortion_Edit_Indicator                0.000\n",
       "Emergency_Department_Indicator         0.000\n",
       "Total_Charges                          0.000\n",
       "Total_Costs                            0.000\n",
       "dtype: float64"
      ]
     },
     "execution_count": 7,
     "metadata": {},
     "output_type": "execute_result"
    }
   ],
   "source": [
    "# how much of data is missing?\n",
    "(df.isnull().sum()/len(df))*100"
   ]
  },
  {
   "cell_type": "markdown",
   "metadata": {},
   "source": [
    "* We need do some missing inputation later. For variables , we won't be using as feautures such as the Other Provider License Number ,due to large size of missing.\n",
    "* birth weight some should be missing but not missing. We need to investigate. \n",
    "* Payment Typology 3 need feature engineering."
   ]
  },
  {
   "cell_type": "code",
   "execution_count": 8,
   "metadata": {
    "scrolled": true
   },
   "outputs": [
    {
     "name": "stdout",
     "output_type": "stream",
     "text": [
      "Health_Service_Area                      \t     9\n",
      "Hospital_County                          \t    58\n",
      "Operating_Certificate_Number             \t   180\n",
      "Facility_Id                              \t   214\n",
      "Facility_Name                            \t   214\n",
      "Age_Group                                \t     5\n",
      "Zip_Code__3_digits                       \t    51\n",
      "Gender                                   \t     3\n",
      "Race                                     \t     4\n",
      "Ethnicity                                \t     4\n",
      "Length_of_Stay                           \t   221\n",
      "Type_of_Admission                        \t     6\n",
      "Patient_Disposition                      \t    19\n",
      "Discharge_Year                           \t     1\n",
      "CCS_Diagnosis_Code                       \t   263\n",
      "CCS_Diagnosis_Description                \t   263\n",
      "CCS_Procedure_Code                       \t   232\n",
      "CCS_Procedure_Description                \t   232\n",
      "APR_DRG_Code                             \t   316\n",
      "APR_DRG_Description                      \t   316\n",
      "APR_MDC_Code                             \t    26\n",
      "APR_MDC_Description                      \t    26\n",
      "APR_Severity_of_Illness_Code             \t     5\n",
      "APR_Severity_of_Illness_Description      \t     5\n",
      "APR_Risk_of_Mortality                    \t     5\n",
      "APR_Medical_Surgical_Description         \t     3\n",
      "Payment_Typology_1                       \t    10\n",
      "Payment_Typology_2                       \t    11\n",
      "Payment_Typology_3                       \t    11\n",
      "Attending_Provider_License_Number        \t 27099\n",
      "Operating_Provider_License_Number        \t 35726\n",
      "Other_Provider_License_Number            \t  2519\n",
      "Birth_Weight                             \t    91\n",
      "Abortion_Edit_Indicator                  \t     2\n",
      "Emergency_Department_Indicator           \t     2\n",
      "Total_Charges                            \t 1787624\n",
      "Total_Costs                              \t 1493341\n"
     ]
    }
   ],
   "source": [
    "# check unique values\n",
    "for name in df.columns:\n",
    "    print('{0:40s} \\t {1:5d}'.format(name, len(df[name].unique())))"
   ]
  },
  {
   "cell_type": "markdown",
   "metadata": {},
   "source": [
    "Many high cardnality features that need feature engineering. Also, we can just remove the rows that are missing abortion indicator (only 2) and ER indicator (only 2) "
   ]
  },
  {
   "cell_type": "code",
   "execution_count": 9,
   "metadata": {},
   "outputs": [],
   "source": [
    "# Classify the features into categorical and numerical fearures\n",
    "numcols= ['Length_of_Stay','Birth_Weight','Total_Charges', 'Total_Costs']\n",
    "catcols = [x for x in df.columns if x not in numcols]"
   ]
  },
  {
   "cell_type": "code",
   "execution_count": 10,
   "metadata": {},
   "outputs": [],
   "source": [
    "for x in catcols : \n",
    "    df[x]=df[x].astype('category')"
   ]
  },
  {
   "cell_type": "code",
   "execution_count": 11,
   "metadata": {},
   "outputs": [],
   "source": [
    "# change 120 + to numeric\n",
    "df.Length_of_Stay.replace('120 +', '120',inplace=True)"
   ]
  },
  {
   "cell_type": "code",
   "execution_count": 12,
   "metadata": {},
   "outputs": [],
   "source": [
    "df[['Length_of_Stay','Birth_Weight','Total_Charges', 'Total_Costs','CCS_Diagnosis_Code','CCS_Procedure_Code']] = df[['Length_of_Stay','Birth_Weight','Total_Charges', 'Total_Costs','CCS_Diagnosis_Code','CCS_Procedure_Code']].apply(pd.to_numeric)"
   ]
  },
  {
   "cell_type": "code",
   "execution_count": 13,
   "metadata": {},
   "outputs": [
    {
     "data": {
      "text/html": [
       "<div>\n",
       "<style scoped>\n",
       "    .dataframe tbody tr th:only-of-type {\n",
       "        vertical-align: middle;\n",
       "    }\n",
       "\n",
       "    .dataframe tbody tr th {\n",
       "        vertical-align: top;\n",
       "    }\n",
       "\n",
       "    .dataframe thead th {\n",
       "        text-align: right;\n",
       "    }\n",
       "</style>\n",
       "<table border=\"1\" class=\"dataframe\">\n",
       "  <thead>\n",
       "    <tr style=\"text-align: right;\">\n",
       "      <th></th>\n",
       "      <th>Length_of_Stay</th>\n",
       "      <th>CCS_Diagnosis_Code</th>\n",
       "      <th>CCS_Procedure_Code</th>\n",
       "      <th>Birth_Weight</th>\n",
       "      <th>Total_Charges</th>\n",
       "      <th>Total_Costs</th>\n",
       "    </tr>\n",
       "  </thead>\n",
       "  <tbody>\n",
       "    <tr>\n",
       "      <th>count</th>\n",
       "      <td>2346931.000</td>\n",
       "      <td>2346931.000</td>\n",
       "      <td>2346931.000</td>\n",
       "      <td>2346931.000</td>\n",
       "      <td>2346931.000</td>\n",
       "      <td>2346931.000</td>\n",
       "    </tr>\n",
       "    <tr>\n",
       "      <th>mean</th>\n",
       "      <td>5.476</td>\n",
       "      <td>190.562</td>\n",
       "      <td>112.763</td>\n",
       "      <td>326.564</td>\n",
       "      <td>43214.810</td>\n",
       "      <td>14732.539</td>\n",
       "    </tr>\n",
       "    <tr>\n",
       "      <th>std</th>\n",
       "      <td>8.034</td>\n",
       "      <td>159.636</td>\n",
       "      <td>88.930</td>\n",
       "      <td>1000.335</td>\n",
       "      <td>80460.086</td>\n",
       "      <td>28198.900</td>\n",
       "    </tr>\n",
       "    <tr>\n",
       "      <th>min</th>\n",
       "      <td>1.000</td>\n",
       "      <td>1.000</td>\n",
       "      <td>0.000</td>\n",
       "      <td>0.000</td>\n",
       "      <td>0.010</td>\n",
       "      <td>0.000</td>\n",
       "    </tr>\n",
       "    <tr>\n",
       "      <th>25%</th>\n",
       "      <td>2.000</td>\n",
       "      <td>106.000</td>\n",
       "      <td>0.000</td>\n",
       "      <td>0.000</td>\n",
       "      <td>12028.615</td>\n",
       "      <td>4410.150</td>\n",
       "    </tr>\n",
       "    <tr>\n",
       "      <th>50%</th>\n",
       "      <td>3.000</td>\n",
       "      <td>159.000</td>\n",
       "      <td>132.000</td>\n",
       "      <td>0.000</td>\n",
       "      <td>23486.370</td>\n",
       "      <td>8191.270</td>\n",
       "    </tr>\n",
       "    <tr>\n",
       "      <th>75%</th>\n",
       "      <td>6.000</td>\n",
       "      <td>218.000</td>\n",
       "      <td>216.000</td>\n",
       "      <td>0.000</td>\n",
       "      <td>46616.700</td>\n",
       "      <td>15771.820</td>\n",
       "    </tr>\n",
       "    <tr>\n",
       "      <th>max</th>\n",
       "      <td>120.000</td>\n",
       "      <td>917.000</td>\n",
       "      <td>999.000</td>\n",
       "      <td>9900.000</td>\n",
       "      <td>7248390.820</td>\n",
       "      <td>3007712.730</td>\n",
       "    </tr>\n",
       "  </tbody>\n",
       "</table>\n",
       "</div>"
      ],
      "text/plain": [
       "       Length_of_Stay  CCS_Diagnosis_Code  CCS_Procedure_Code  Birth_Weight  \\\n",
       "count     2346931.000         2346931.000         2346931.000   2346931.000   \n",
       "mean            5.476             190.562             112.763       326.564   \n",
       "std             8.034             159.636              88.930      1000.335   \n",
       "min             1.000               1.000               0.000         0.000   \n",
       "25%             2.000             106.000               0.000         0.000   \n",
       "50%             3.000             159.000             132.000         0.000   \n",
       "75%             6.000             218.000             216.000         0.000   \n",
       "max           120.000             917.000             999.000      9900.000   \n",
       "\n",
       "       Total_Charges  Total_Costs  \n",
       "count    2346931.000  2346931.000  \n",
       "mean       43214.810    14732.539  \n",
       "std        80460.086    28198.900  \n",
       "min            0.010        0.000  \n",
       "25%        12028.615     4410.150  \n",
       "50%        23486.370     8191.270  \n",
       "75%        46616.700    15771.820  \n",
       "max      7248390.820  3007712.730  "
      ]
     },
     "execution_count": 13,
     "metadata": {},
     "output_type": "execute_result"
    }
   ],
   "source": [
    "df.describe()"
   ]
  },
  {
   "cell_type": "markdown",
   "metadata": {},
   "source": [
    "### Exploratory Analysis"
   ]
  },
  {
   "cell_type": "code",
   "execution_count": 14,
   "metadata": {
    "scrolled": true
   },
   "outputs": [
    {
     "data": {
      "image/png": "[encoded data removed]",
      "text/plain": [
       "<Figure size 1152x360 with 2 Axes>"
      ]
     },
     "metadata": {
      "needs_background": "light"
     },
     "output_type": "display_data"
    }
   ],
   "source": [
    "# Distribution of length of stay (LOS)\n",
    "warnings.filterwarnings('ignore')\n",
    "hist_kws={'histtype': 'bar', 'edgecolor':'black', 'alpha': 0.2}\n",
    "\n",
    "fig, ax = plt.subplots(nrows=1, ncols=2, figsize=(16, 5))\n",
    "sns.distplot(df['Length_of_Stay'], ax=ax[0], hist_kws=hist_kws)\n",
    "sns.distplot(np.log(df['Length_of_Stay']), ax=ax[1], hist_kws=hist_kws)\n",
    "ax[1].set_xlabel('log(Length_of_Stay)')\n",
    "plt.tight_layout()\n",
    "plt.show()"
   ]
  },
  {
   "cell_type": "code",
   "execution_count": 15,
   "metadata": {},
   "outputs": [
    {
     "data": {
      "text/plain": [
       "0.900    11.000\n",
       "0.995    53.000\n",
       "0.999   109.000\n",
       "Name: Length_of_Stay, dtype: float64"
      ]
     },
     "execution_count": 15,
     "metadata": {},
     "output_type": "execute_result"
    }
   ],
   "source": [
    "df.Length_of_Stay.quantile([.9,0.995,.999])"
   ]
  },
  {
   "cell_type": "markdown",
   "metadata": {},
   "source": [
    "The Length of stay has a very skewed distribution. Most of the cases(99.5% percentile are under 53 days and apparently there some extreme values that we need to take care of"
   ]
  },
  {
   "cell_type": "code",
   "execution_count": 16,
   "metadata": {},
   "outputs": [
    {
     "data": {
      "text/plain": [
       "0    2335611\n",
       "1      11320\n",
       "Name: outliers, dtype: int64"
      ]
     },
     "execution_count": 16,
     "metadata": {},
     "output_type": "execute_result"
    }
   ],
   "source": [
    "df['outliers'] = 0\n",
    "df.loc[df['Length_of_Stay'] >53, 'outliers'] = 1 \n",
    "df['outliers'].value_counts()"
   ]
  },
  {
   "cell_type": "markdown",
   "metadata": {},
   "source": [
    "About 4% of the data are treated as outliers now"
   ]
  },
  {
   "cell_type": "code",
   "execution_count": 17,
   "metadata": {},
   "outputs": [
    {
     "data": {
      "text/plain": [
       "<matplotlib.axes._subplots.AxesSubplot at 0x116314d68>"
      ]
     },
     "execution_count": 17,
     "metadata": {},
     "output_type": "execute_result"
    },
    {
     "data": {
      "image/png": "[encoded data removed]",
      "text/plain": [
       "<Figure size 432x288 with 1 Axes>"
      ]
     },
     "metadata": {
      "needs_background": "light"
     },
     "output_type": "display_data"
    }
   ],
   "source": [
    "a=df.groupby('outliers')['Patient_Disposition'].value_counts(normalize=True).unstack()\n",
    "a.T.plot(kind='bar')"
   ]
  },
  {
   "cell_type": "code",
   "execution_count": 18,
   "metadata": {},
   "outputs": [],
   "source": [
    "a=df.groupby('outliers')['CCS_Diagnosis_Description'].value_counts(normalize=True).unstack()\n",
    "a=a.T"
   ]
  },
  {
   "cell_type": "code",
   "execution_count": 19,
   "metadata": {},
   "outputs": [
    {
     "data": {
      "text/html": [
       "<div>\n",
       "<style scoped>\n",
       "    .dataframe tbody tr th:only-of-type {\n",
       "        vertical-align: middle;\n",
       "    }\n",
       "\n",
       "    .dataframe tbody tr th {\n",
       "        vertical-align: top;\n",
       "    }\n",
       "\n",
       "    .dataframe thead th {\n",
       "        text-align: right;\n",
       "    }\n",
       "</style>\n",
       "<table border=\"1\" class=\"dataframe\">\n",
       "  <thead>\n",
       "    <tr style=\"text-align: right;\">\n",
       "      <th>outliers</th>\n",
       "      <th>0</th>\n",
       "      <th>1</th>\n",
       "      <th>diff</th>\n",
       "    </tr>\n",
       "    <tr>\n",
       "      <th>CCS_Diagnosis_Description</th>\n",
       "      <th></th>\n",
       "      <th></th>\n",
       "      <th></th>\n",
       "    </tr>\n",
       "  </thead>\n",
       "  <tbody>\n",
       "    <tr>\n",
       "      <th>Schizophrenia and other psychotic disorders</th>\n",
       "      <td>0.018</td>\n",
       "      <td>0.186</td>\n",
       "      <td>0.169</td>\n",
       "    </tr>\n",
       "    <tr>\n",
       "      <th>Septicemia (except in labor)</th>\n",
       "      <td>0.046</td>\n",
       "      <td>0.090</td>\n",
       "      <td>0.044</td>\n",
       "    </tr>\n",
       "    <tr>\n",
       "      <th>Mood disorders</th>\n",
       "      <td>0.024</td>\n",
       "      <td>0.061</td>\n",
       "      <td>0.037</td>\n",
       "    </tr>\n",
       "    <tr>\n",
       "      <th>Liveborn</th>\n",
       "      <td>0.097</td>\n",
       "      <td>0.133</td>\n",
       "      <td>0.036</td>\n",
       "    </tr>\n",
       "    <tr>\n",
       "      <th>Respiratory failure; insufficiency; arrest (adult)</th>\n",
       "      <td>0.008</td>\n",
       "      <td>0.037</td>\n",
       "      <td>0.029</td>\n",
       "    </tr>\n",
       "  </tbody>\n",
       "</table>\n",
       "</div>"
      ],
      "text/plain": [
       "outliers                                               0     1  diff\n",
       "CCS_Diagnosis_Description                                           \n",
       "Schizophrenia and other psychotic disorders        0.018 0.186 0.169\n",
       "Septicemia (except in labor)                       0.046 0.090 0.044\n",
       "Mood disorders                                     0.024 0.061 0.037\n",
       "Liveborn                                           0.097 0.133 0.036\n",
       "Respiratory failure; insufficiency; arrest (adult) 0.008 0.037 0.029"
      ]
     },
     "execution_count": 19,
     "metadata": {},
     "output_type": "execute_result"
    }
   ],
   "source": [
    "a['diff']=a.iloc[:,1]-a.iloc[:,0]\n",
    "a.sort_values(by='diff',ascending=False,inplace=True)\n",
    "a.head()"
   ]
  },
  {
   "cell_type": "markdown",
   "metadata": {},
   "source": [
    "Seems that the top reason of most of the extreme value of LOS is Schizophrenia and other psychotic disorders, which is not surprising."
   ]
  },
  {
   "cell_type": "code",
   "execution_count": 20,
   "metadata": {},
   "outputs": [
    {
     "data": {
      "text/html": [
       "<div>\n",
       "<style scoped>\n",
       "    .dataframe tbody tr th:only-of-type {\n",
       "        vertical-align: middle;\n",
       "    }\n",
       "\n",
       "    .dataframe tbody tr th {\n",
       "        vertical-align: top;\n",
       "    }\n",
       "\n",
       "    .dataframe thead th {\n",
       "        text-align: right;\n",
       "    }\n",
       "</style>\n",
       "<table border=\"1\" class=\"dataframe\">\n",
       "  <thead>\n",
       "    <tr style=\"text-align: right;\">\n",
       "      <th></th>\n",
       "      <th>CCS_Diagnosis_Description</th>\n",
       "    </tr>\n",
       "  </thead>\n",
       "  <tbody>\n",
       "    <tr>\n",
       "      <th>Liveborn</th>\n",
       "      <td>0.097</td>\n",
       "    </tr>\n",
       "    <tr>\n",
       "      <th>Septicemia (except in labor)</th>\n",
       "      <td>0.046</td>\n",
       "    </tr>\n",
       "    <tr>\n",
       "      <th>Osteoarthritis</th>\n",
       "      <td>0.027</td>\n",
       "    </tr>\n",
       "    <tr>\n",
       "      <th>Congestive heart failure; nonhypertensive</th>\n",
       "      <td>0.025</td>\n",
       "    </tr>\n",
       "    <tr>\n",
       "      <th>Mood disorders</th>\n",
       "      <td>0.024</td>\n",
       "    </tr>\n",
       "  </tbody>\n",
       "</table>\n",
       "</div>"
      ],
      "text/plain": [
       "                                           CCS_Diagnosis_Description\n",
       "Liveborn                                                       0.097\n",
       "Septicemia (except in labor)                                   0.046\n",
       "Osteoarthritis                                                 0.027\n",
       "Congestive heart failure; nonhypertensive                      0.025\n",
       "Mood disorders                                                 0.024"
      ]
     },
     "execution_count": 20,
     "metadata": {},
     "output_type": "execute_result"
    }
   ],
   "source": [
    "# most frequent Diagnosis\n",
    "df['CCS_Diagnosis_Description'].value_counts(normalize=True).sort_values(ascending=False).to_frame().head()"
   ]
  },
  {
   "cell_type": "code",
   "execution_count": 21,
   "metadata": {},
   "outputs": [
    {
     "data": {
      "text/html": [
       "<div>\n",
       "<style scoped>\n",
       "    .dataframe tbody tr th:only-of-type {\n",
       "        vertical-align: middle;\n",
       "    }\n",
       "\n",
       "    .dataframe tbody tr th {\n",
       "        vertical-align: top;\n",
       "    }\n",
       "\n",
       "    .dataframe thead th {\n",
       "        text-align: right;\n",
       "    }\n",
       "</style>\n",
       "<table border=\"1\" class=\"dataframe\">\n",
       "  <thead>\n",
       "    <tr style=\"text-align: right;\">\n",
       "      <th></th>\n",
       "      <th>CCS_Procedure_Description</th>\n",
       "    </tr>\n",
       "  </thead>\n",
       "  <tbody>\n",
       "    <tr>\n",
       "      <th>NO PROC</th>\n",
       "      <td>0.260</td>\n",
       "    </tr>\n",
       "    <tr>\n",
       "      <th>OTHER THERAPEUTIC PRCS</th>\n",
       "      <td>0.075</td>\n",
       "    </tr>\n",
       "    <tr>\n",
       "      <th>OT PRCS TO ASSIST DELIV</th>\n",
       "      <td>0.036</td>\n",
       "    </tr>\n",
       "    <tr>\n",
       "      <th>PROPHYLACTIC VAC/INOCUL</th>\n",
       "      <td>0.035</td>\n",
       "    </tr>\n",
       "    <tr>\n",
       "      <th>CESAREAN SECTION</th>\n",
       "      <td>0.032</td>\n",
       "    </tr>\n",
       "    <tr>\n",
       "      <th>RESP INTUB/MECH VENTIL</th>\n",
       "      <td>0.032</td>\n",
       "    </tr>\n",
       "    <tr>\n",
       "      <th>ALCO/DRUG REHAB/DETOX</th>\n",
       "      <td>0.025</td>\n",
       "    </tr>\n",
       "    <tr>\n",
       "      <th>PSYCHO/PSYCHI EVAL/THER</th>\n",
       "      <td>0.023</td>\n",
       "    </tr>\n",
       "    <tr>\n",
       "      <th>CIRCUMCISION</th>\n",
       "      <td>0.020</td>\n",
       "    </tr>\n",
       "    <tr>\n",
       "      <th>OPHTHALM-/OT-OLOGIC DX</th>\n",
       "      <td>0.017</td>\n",
       "    </tr>\n",
       "  </tbody>\n",
       "</table>\n",
       "</div>"
      ],
      "text/plain": [
       "                         CCS_Procedure_Description\n",
       "NO PROC                                      0.260\n",
       "OTHER THERAPEUTIC PRCS                       0.075\n",
       "OT PRCS TO ASSIST DELIV                      0.036\n",
       "PROPHYLACTIC VAC/INOCUL                      0.035\n",
       "CESAREAN SECTION                             0.032\n",
       "RESP INTUB/MECH VENTIL                       0.032\n",
       "ALCO/DRUG REHAB/DETOX                        0.025\n",
       "PSYCHO/PSYCHI EVAL/THER                      0.023\n",
       "CIRCUMCISION                                 0.020\n",
       "OPHTHALM-/OT-OLOGIC DX                       0.017"
      ]
     },
     "execution_count": 21,
     "metadata": {},
     "output_type": "execute_result"
    }
   ],
   "source": [
    "df['CCS_Procedure_Description'].value_counts(normalize=True).sort_values(ascending=False).to_frame().head(10)"
   ]
  },
  {
   "cell_type": "code",
   "execution_count": 22,
   "metadata": {},
   "outputs": [
    {
     "data": {
      "text/html": [
       "<div>\n",
       "<style scoped>\n",
       "    .dataframe tbody tr th:only-of-type {\n",
       "        vertical-align: middle;\n",
       "    }\n",
       "\n",
       "    .dataframe tbody tr th {\n",
       "        vertical-align: top;\n",
       "    }\n",
       "\n",
       "    .dataframe thead th {\n",
       "        text-align: right;\n",
       "    }\n",
       "</style>\n",
       "<table border=\"1\" class=\"dataframe\">\n",
       "  <thead>\n",
       "    <tr style=\"text-align: right;\">\n",
       "      <th></th>\n",
       "      <th>CCS_Diagnosis_Description</th>\n",
       "    </tr>\n",
       "  </thead>\n",
       "  <tbody>\n",
       "    <tr>\n",
       "      <th>Liveborn</th>\n",
       "      <td>0.070</td>\n",
       "    </tr>\n",
       "    <tr>\n",
       "      <th>Septicemia (except in labor)</th>\n",
       "      <td>0.053</td>\n",
       "    </tr>\n",
       "    <tr>\n",
       "      <th>Mood disorders</th>\n",
       "      <td>0.051</td>\n",
       "    </tr>\n",
       "    <tr>\n",
       "      <th>Congestive heart failure; nonhypertensive</th>\n",
       "      <td>0.039</td>\n",
       "    </tr>\n",
       "    <tr>\n",
       "      <th>Pneumonia (except that caused by tuberculosis or sexually transmitted disease)</th>\n",
       "      <td>0.038</td>\n",
       "    </tr>\n",
       "    <tr>\n",
       "      <th>Schizophrenia and other psychotic disorders</th>\n",
       "      <td>0.030</td>\n",
       "    </tr>\n",
       "    <tr>\n",
       "      <th>Chronic obstructive pulmonary disease and bronchiectasis</th>\n",
       "      <td>0.029</td>\n",
       "    </tr>\n",
       "    <tr>\n",
       "      <th>Cardiac dysrhythmias</th>\n",
       "      <td>0.026</td>\n",
       "    </tr>\n",
       "    <tr>\n",
       "      <th>Skin and subcutaneous tissue infections</th>\n",
       "      <td>0.026</td>\n",
       "    </tr>\n",
       "    <tr>\n",
       "      <th>Urinary tract infections</th>\n",
       "      <td>0.025</td>\n",
       "    </tr>\n",
       "  </tbody>\n",
       "</table>\n",
       "</div>"
      ],
      "text/plain": [
       "                                                    CCS_Diagnosis_Description\n",
       "Liveborn                                                                0.070\n",
       "Septicemia (except in labor)                                            0.053\n",
       "Mood disorders                                                          0.051\n",
       "Congestive heart failure; nonhypertensive                               0.039\n",
       "Pneumonia (except that caused by tuberculosis o...                      0.038\n",
       "Schizophrenia and other psychotic disorders                             0.030\n",
       "Chronic obstructive pulmonary disease and bronc...                      0.029\n",
       "Cardiac dysrhythmias                                                    0.026\n",
       "Skin and subcutaneous tissue infections                                 0.026\n",
       "Urinary tract infections                                                0.025"
      ]
     },
     "execution_count": 22,
     "metadata": {},
     "output_type": "execute_result"
    }
   ],
   "source": [
    "# why 26% of the inpatients have no procedure ?\n",
    "df[df.CCS_Procedure_Description =='NO PROC'].CCS_Diagnosis_Description.value_counts(normalize=True).sort_values(ascending=False).to_frame().head(10)"
   ]
  },
  {
   "cell_type": "code",
   "execution_count": 23,
   "metadata": {},
   "outputs": [
    {
     "data": {
      "text/html": [
       "<div>\n",
       "<style scoped>\n",
       "    .dataframe tbody tr th:only-of-type {\n",
       "        vertical-align: middle;\n",
       "    }\n",
       "\n",
       "    .dataframe tbody tr th {\n",
       "        vertical-align: top;\n",
       "    }\n",
       "\n",
       "    .dataframe thead th {\n",
       "        text-align: right;\n",
       "    }\n",
       "</style>\n",
       "<table border=\"1\" class=\"dataframe\">\n",
       "  <thead>\n",
       "    <tr style=\"text-align: right;\">\n",
       "      <th></th>\n",
       "      <th>top_facility_ind</th>\n",
       "    </tr>\n",
       "    <tr>\n",
       "      <th>Facility_Name</th>\n",
       "      <th></th>\n",
       "    </tr>\n",
       "  </thead>\n",
       "  <tbody>\n",
       "    <tr>\n",
       "      <th>Mount Sinai Hospital</th>\n",
       "      <td>1</td>\n",
       "    </tr>\n",
       "    <tr>\n",
       "      <th>North Shore University Hospital</th>\n",
       "      <td>1</td>\n",
       "    </tr>\n",
       "    <tr>\n",
       "      <th>New York Presbyterian Hospital - Columbia Presbyterian Center</th>\n",
       "      <td>1</td>\n",
       "    </tr>\n",
       "    <tr>\n",
       "      <th>New York Presbyterian Hospital - New York Weill Cornell Center</th>\n",
       "      <td>1</td>\n",
       "    </tr>\n",
       "    <tr>\n",
       "      <th>Montefiore Medical Center - Henry &amp; Lucy Moses Div</th>\n",
       "      <td>1</td>\n",
       "    </tr>\n",
       "    <tr>\n",
       "      <th>Maimonides Medical Center</th>\n",
       "      <td>1</td>\n",
       "    </tr>\n",
       "    <tr>\n",
       "      <th>Long Island Jewish Medical Center</th>\n",
       "      <td>1</td>\n",
       "    </tr>\n",
       "    <tr>\n",
       "      <th>NewYork-Presbyterian Brooklyn Methodist Hospital</th>\n",
       "      <td>1</td>\n",
       "    </tr>\n",
       "    <tr>\n",
       "      <th>Strong Memorial Hospital</th>\n",
       "      <td>1</td>\n",
       "    </tr>\n",
       "    <tr>\n",
       "      <th>Albany Medical Center Hospital</th>\n",
       "      <td>1</td>\n",
       "    </tr>\n",
       "  </tbody>\n",
       "</table>\n",
       "</div>"
      ],
      "text/plain": [
       "                                                    top_facility_ind\n",
       "Facility_Name                                                       \n",
       "Mount Sinai Hospital                                               1\n",
       "North Shore University Hospital                                    1\n",
       "New York Presbyterian Hospital - Columbia Presb...                 1\n",
       "New York Presbyterian Hospital - New York Weill...                 1\n",
       "Montefiore Medical Center - Henry & Lucy Moses Div                 1\n",
       "Maimonides Medical Center                                          1\n",
       "Long Island Jewish Medical Center                                  1\n",
       "NewYork-Presbyterian Brooklyn Methodist Hospital                   1\n",
       "Strong Memorial Hospital                                           1\n",
       "Albany Medical Center Hospital                                     1"
      ]
     },
     "execution_count": 23,
     "metadata": {},
     "output_type": "execute_result"
    }
   ],
   "source": [
    "# would LOS differs by providers? extract top 10 facilities\n",
    "facility= df.groupby('Facility_Name')['Length_of_Stay'].agg({'avg':'mean','cnt': 'count'}).sort_values(by='cnt',ascending=False)\n",
    "facility=facility.head(10)\n",
    "facility['top_facility_ind']=1\n",
    "facility = facility.drop(['avg','cnt'], axis=1)\n",
    "facility"
   ]
  },
  {
   "cell_type": "code",
   "execution_count": 24,
   "metadata": {},
   "outputs": [],
   "source": [
    "df = pd.merge(left=df,right=facility,how='left',on='Facility_Name')"
   ]
  },
  {
   "cell_type": "code",
   "execution_count": 25,
   "metadata": {},
   "outputs": [],
   "source": [
    "df.fillna({'top_facility_ind':0}, inplace=True)"
   ]
  },
  {
   "cell_type": "markdown",
   "metadata": {},
   "source": [
    "### Feature Engineering"
   ]
  },
  {
   "cell_type": "markdown",
   "metadata": {},
   "source": [
    "Most of the inpatients events that have no procedure are related to liveborn and mental disease. Thus, I also wanted to create a binary feature of observational status as their LOS may be signficantly different."
   ]
  },
  {
   "cell_type": "code",
   "execution_count": 26,
   "metadata": {},
   "outputs": [
    {
     "data": {
      "text/plain": [
       "0    1736678\n",
       "1     610253\n",
       "Name: observational_status, dtype: int64"
      ]
     },
     "execution_count": 26,
     "metadata": {},
     "output_type": "execute_result"
    }
   ],
   "source": [
    "df['observational_status']=0\n",
    "df.loc[df['CCS_Procedure_Description']=='NO PROC','observational_status']=1\n",
    "df['observational_status'].value_counts()"
   ]
  },
  {
   "cell_type": "code",
   "execution_count": 27,
   "metadata": {},
   "outputs": [
    {
     "data": {
      "text/plain": [
       "observational_status\n",
       "0   5.801\n",
       "1   4.552\n",
       "Name: Length_of_Stay, dtype: float64"
      ]
     },
     "execution_count": 27,
     "metadata": {},
     "output_type": "execute_result"
    }
   ],
   "source": [
    "df.groupby('observational_status')['Length_of_Stay'].mean()"
   ]
  },
  {
   "cell_type": "code",
   "execution_count": 28,
   "metadata": {},
   "outputs": [
    {
     "data": {
      "text/html": [
       "<div>\n",
       "<style scoped>\n",
       "    .dataframe tbody tr th:only-of-type {\n",
       "        vertical-align: middle;\n",
       "    }\n",
       "\n",
       "    .dataframe tbody tr th {\n",
       "        vertical-align: top;\n",
       "    }\n",
       "\n",
       "    .dataframe thead th {\n",
       "        text-align: right;\n",
       "    }\n",
       "</style>\n",
       "<table border=\"1\" class=\"dataframe\">\n",
       "  <thead>\n",
       "    <tr style=\"text-align: right;\">\n",
       "      <th></th>\n",
       "      <th>APR_DRG_Description</th>\n",
       "    </tr>\n",
       "  </thead>\n",
       "  <tbody>\n",
       "    <tr>\n",
       "      <th>Neonate birthwt &gt;2499g, normal newborn or neonate w other problem</th>\n",
       "      <td>0.084</td>\n",
       "    </tr>\n",
       "    <tr>\n",
       "      <th>Vaginal delivery</th>\n",
       "      <td>0.063</td>\n",
       "    </tr>\n",
       "    <tr>\n",
       "      <th>Septicemia &amp; disseminated infections</th>\n",
       "      <td>0.041</td>\n",
       "    </tr>\n",
       "    <tr>\n",
       "      <th>Cesarean delivery</th>\n",
       "      <td>0.032</td>\n",
       "    </tr>\n",
       "    <tr>\n",
       "      <th>Heart failure</th>\n",
       "      <td>0.024</td>\n",
       "    </tr>\n",
       "    <tr>\n",
       "      <th>Other pneumonia</th>\n",
       "      <td>0.018</td>\n",
       "    </tr>\n",
       "    <tr>\n",
       "      <th>Chronic obstructive pulmonary disease</th>\n",
       "      <td>0.017</td>\n",
       "    </tr>\n",
       "    <tr>\n",
       "      <th>Knee joint replacement</th>\n",
       "      <td>0.016</td>\n",
       "    </tr>\n",
       "    <tr>\n",
       "      <th>Schizophrenia</th>\n",
       "      <td>0.015</td>\n",
       "    </tr>\n",
       "    <tr>\n",
       "      <th>Cellulitis &amp; other skin infections</th>\n",
       "      <td>0.015</td>\n",
       "    </tr>\n",
       "  </tbody>\n",
       "</table>\n",
       "</div>"
      ],
      "text/plain": [
       "                                                    APR_DRG_Description\n",
       "Neonate birthwt >2499g, normal newborn or neona...                0.084\n",
       "Vaginal delivery                                                  0.063\n",
       "Septicemia & disseminated infections                              0.041\n",
       "Cesarean delivery                                                 0.032\n",
       "Heart failure                                                     0.024\n",
       "Other pneumonia                                                   0.018\n",
       "Chronic obstructive pulmonary disease                             0.017\n",
       "Knee joint replacement                                            0.016\n",
       "Schizophrenia                                                     0.015\n",
       "Cellulitis & other skin infections                                0.015"
      ]
     },
     "execution_count": 28,
     "metadata": {},
     "output_type": "execute_result"
    }
   ],
   "source": [
    "df['APR_DRG_Description'].value_counts(normalize=True).sort_values(ascending=False).to_frame().head(10)"
   ]
  },
  {
   "cell_type": "code",
   "execution_count": 29,
   "metadata": {},
   "outputs": [
    {
     "data": {
      "text/plain": [
       "Not Span/Hispanic    1954846\n",
       "Spanish/Hispanic      278838\n",
       "Unknown               104532\n",
       "Multi-ethnic            8715\n",
       "Name: Ethnicity, dtype: int64"
      ]
     },
     "execution_count": 29,
     "metadata": {},
     "output_type": "execute_result"
    }
   ],
   "source": [
    "df.Ethnicity.value_counts()"
   ]
  },
  {
   "cell_type": "code",
   "execution_count": 30,
   "metadata": {},
   "outputs": [
    {
     "data": {
      "text/plain": [
       "White                     1334890\n",
       "Other Race                 544720\n",
       "Black/African American     444883\n",
       "Multi-racial                22438\n",
       "Name: Race, dtype: int64"
      ]
     },
     "execution_count": 30,
     "metadata": {},
     "output_type": "execute_result"
    }
   ],
   "source": [
    "df['Race'].value_counts() "
   ]
  },
  {
   "cell_type": "code",
   "execution_count": 31,
   "metadata": {},
   "outputs": [],
   "source": [
    "# Recode 2 ethnicity related features into one \n",
    "def ethnicity_combine(row):\n",
    "    if row['Ethnicity'] == 'Spanish/Hispanic':\n",
    "        return 'Hispanic'\n",
    "    else:\n",
    "        return row['Race']\n",
    "        \n",
    "\n",
    "df['ethnicity_combine'] = df[['Race', 'Ethnicity']].apply(ethnicity_combine, axis = 1)\n",
    "        \n",
    "# df['ethnicity_combine'].value_counts()"
   ]
  },
  {
   "cell_type": "code",
   "execution_count": 32,
   "metadata": {},
   "outputs": [
    {
     "data": {
      "text/plain": [
       "White                     1263168\n",
       "Black/African American     422186\n",
       "Other Race                 362376\n",
       "Hispanic                   278838\n",
       "Multi-racial                20363\n",
       "Name: ethnicity_combine, dtype: int64"
      ]
     },
     "execution_count": 32,
     "metadata": {},
     "output_type": "execute_result"
    }
   ],
   "source": [
    "df['ethnicity_combine'].value_counts()"
   ]
  },
  {
   "cell_type": "code",
   "execution_count": 33,
   "metadata": {},
   "outputs": [
    {
     "data": {
      "image/png": "[encoded data removed]",
      "text/plain": [
       "<Figure size 1296x432 with 2 Axes>"
      ]
     },
     "metadata": {
      "needs_background": "light"
     },
     "output_type": "display_data"
    }
   ],
   "source": [
    "# Visualization of MDC groups\n",
    "fig, ax = plt.subplots(nrows=1, ncols=2, figsize=(18, 6))\n",
    "sns.countplot(x='APR_MDC_Code', data=df, ax=ax[0],order = df['APR_MDC_Code'].value_counts().index)\n",
    "ax[0].set_title('Count Plot of APR_MDC_Code', fontsize=16)\n",
    "\n",
    "sns.barplot(x='APR_MDC_Code', y='Length_of_Stay', data=df, ax=ax[1],order = df['APR_MDC_Code'].value_counts().index)\n",
    "ax[1].set_title('Mean Length_of_Stay by APR_MDC_Code', fontsize=16)\n",
    "plt.tight_layout()\n",
    "plt.show()"
   ]
  },
  {
   "cell_type": "markdown",
   "metadata": {},
   "source": [
    "<a id='2'></a>\n",
    "*which assumptions do you have to make given the available data?* \n",
    "\n",
    "Assuming the dataset is representative (e.g. reflecting general inpatient population in NY state) and consistent across the year of 2015 (e.g. no missing month records). Among fields, my assumptions are the features are available by the time when patients start their inpatient events. And this is also why I had to remove fields such as patient dispositions from the list.  For feature usage, as there're many codes of disease and procedure related codes that have high cardinality in the dataset. I used some techniques such as grouping by using public data to replace them, assuming current medical codes grouping method is used by the industry. For examples, accord to research, the APR State DRG and MDC fields are dependent. The DRG codes are determined by multiple level of Diagnosis category. \n",
    "https://www.health.ny.gov/statistics/sparcs/sysdoc/appy.htm\n",
    "https://www.forwardhealth.wi.gov/kw/pdf/handouts/3M_APR_DRG_Presentation.pdf. Thus, we are using MDC code only for now. Then, let's look at the Diagnosis code and Procedure code."
   ]
  },
  {
   "cell_type": "code",
   "execution_count": 34,
   "metadata": {},
   "outputs": [
    {
     "data": {
      "text/plain": [
       "<matplotlib.axes._subplots.AxesSubplot at 0x11ba7cc88>"
      ]
     },
     "execution_count": 34,
     "metadata": {},
     "output_type": "execute_result"
    },
    {
     "data": {
      "image/png": "[encoded data removed]",
      "text/plain": [
       "<Figure size 1296x432 with 1 Axes>"
      ]
     },
     "metadata": {
      "needs_background": "light"
     },
     "output_type": "display_data"
    }
   ],
   "source": [
    "fig = plt.subplots(figsize=(18, 6))\n",
    "sns.countplot(x='CCS_Diagnosis_Code', data=df,order = df['CCS_Diagnosis_Code'].value_counts().index)"
   ]
  },
  {
   "cell_type": "markdown",
   "metadata": {},
   "source": [
    "The above plots shows a long-tail distribution with extremely granular classes as categorical feature, so this means we need to apply some higher level grouping to use the feature in model.\n",
    "\n",
    "After some internet research, I was able to find that there is a higher level of category type on both Procedure code and Diagnosis from CSS (Clinical Classifications Software). Here's where I downloaded the relationship of codes.  \n",
    "https://www.hcup-us.ahrq.gov/toolssoftware/ccs/CCSCategoryNames_FullLabels.pdf"
   ]
  },
  {
   "cell_type": "code",
   "execution_count": 35,
   "metadata": {},
   "outputs": [],
   "source": [
    "#df=df.drop(['CCS_Diagnosis_Group_x','CCS_Procedure_Group_x','CCS_Diagnosis_Group_y','CCS_Procedure_Group_y'], axis=1)"
   ]
  },
  {
   "cell_type": "code",
   "execution_count": 36,
   "metadata": {},
   "outputs": [],
   "source": [
    "Diagnosis= pd.read_csv('CCSCategoryNames_FullLabels_Diagnosis.csv')\n",
    "Procedure= pd.read_csv('CCSCategoryNames_FullLabels_Procedure.csv')"
   ]
  },
  {
   "cell_type": "code",
   "execution_count": 37,
   "metadata": {},
   "outputs": [
    {
     "data": {
      "text/html": [
       "<div>\n",
       "<style scoped>\n",
       "    .dataframe tbody tr th:only-of-type {\n",
       "        vertical-align: middle;\n",
       "    }\n",
       "\n",
       "    .dataframe tbody tr th {\n",
       "        vertical-align: top;\n",
       "    }\n",
       "\n",
       "    .dataframe thead th {\n",
       "        text-align: right;\n",
       "    }\n",
       "</style>\n",
       "<table border=\"1\" class=\"dataframe\">\n",
       "  <thead>\n",
       "    <tr style=\"text-align: right;\">\n",
       "      <th></th>\n",
       "      <th>CCS_Diagnosis_Code</th>\n",
       "      <th>CCS_Diagnosis_Group</th>\n",
       "      <th>CCS_Diagnosis_Full_Description</th>\n",
       "    </tr>\n",
       "  </thead>\n",
       "  <tbody>\n",
       "    <tr>\n",
       "      <th>0</th>\n",
       "      <td>1</td>\n",
       "      <td>1</td>\n",
       "      <td>1.1.1 Tuberculosis [1]</td>\n",
       "    </tr>\n",
       "    <tr>\n",
       "      <th>1</th>\n",
       "      <td>2</td>\n",
       "      <td>1</td>\n",
       "      <td>1.1.2 Septicemia (except in labor) [2]</td>\n",
       "    </tr>\n",
       "    <tr>\n",
       "      <th>2</th>\n",
       "      <td>9</td>\n",
       "      <td>1</td>\n",
       "      <td>1.1.3 Sexually transmitted infections (not HIV...</td>\n",
       "    </tr>\n",
       "    <tr>\n",
       "      <th>3</th>\n",
       "      <td>3</td>\n",
       "      <td>1</td>\n",
       "      <td>1.1.4 Other bacterial infections [3]</td>\n",
       "    </tr>\n",
       "    <tr>\n",
       "      <th>4</th>\n",
       "      <td>4</td>\n",
       "      <td>1</td>\n",
       "      <td>1.2 Mycoses [4]</td>\n",
       "    </tr>\n",
       "  </tbody>\n",
       "</table>\n",
       "</div>"
      ],
      "text/plain": [
       "   CCS_Diagnosis_Code  CCS_Diagnosis_Group  \\\n",
       "0                   1                    1   \n",
       "1                   2                    1   \n",
       "2                   9                    1   \n",
       "3                   3                    1   \n",
       "4                   4                    1   \n",
       "\n",
       "                      CCS_Diagnosis_Full_Description  \n",
       "0                             1.1.1 Tuberculosis [1]  \n",
       "1             1.1.2 Septicemia (except in labor) [2]  \n",
       "2  1.1.3 Sexually transmitted infections (not HIV...  \n",
       "3               1.1.4 Other bacterial infections [3]  \n",
       "4                                    1.2 Mycoses [4]  "
      ]
     },
     "execution_count": 37,
     "metadata": {},
     "output_type": "execute_result"
    }
   ],
   "source": [
    "Diagnosis.head()"
   ]
  },
  {
   "cell_type": "code",
   "execution_count": 38,
   "metadata": {},
   "outputs": [
    {
     "data": {
      "text/html": [
       "<div>\n",
       "<style scoped>\n",
       "    .dataframe tbody tr th:only-of-type {\n",
       "        vertical-align: middle;\n",
       "    }\n",
       "\n",
       "    .dataframe tbody tr th {\n",
       "        vertical-align: top;\n",
       "    }\n",
       "\n",
       "    .dataframe thead th {\n",
       "        text-align: right;\n",
       "    }\n",
       "</style>\n",
       "<table border=\"1\" class=\"dataframe\">\n",
       "  <thead>\n",
       "    <tr style=\"text-align: right;\">\n",
       "      <th></th>\n",
       "      <th>CCS_Procedure_Code</th>\n",
       "      <th>CCS_Procedure_Group</th>\n",
       "      <th>CCS_Procedure_Full_Description</th>\n",
       "    </tr>\n",
       "  </thead>\n",
       "  <tbody>\n",
       "    <tr>\n",
       "      <th>0</th>\n",
       "      <td>1</td>\n",
       "      <td>1</td>\n",
       "      <td>1.1 Incision and excision of CNS [1]</td>\n",
       "    </tr>\n",
       "    <tr>\n",
       "      <th>1</th>\n",
       "      <td>2</td>\n",
       "      <td>1</td>\n",
       "      <td>1.2 Insertion; replacement; or removal of extr...</td>\n",
       "    </tr>\n",
       "    <tr>\n",
       "      <th>2</th>\n",
       "      <td>3</td>\n",
       "      <td>1</td>\n",
       "      <td>1.3 Laminectomy; excision intervertebral disc [3]</td>\n",
       "    </tr>\n",
       "    <tr>\n",
       "      <th>3</th>\n",
       "      <td>4</td>\n",
       "      <td>1</td>\n",
       "      <td>1.4 Diagnostic spinal tap [4]</td>\n",
       "    </tr>\n",
       "    <tr>\n",
       "      <th>4</th>\n",
       "      <td>5</td>\n",
       "      <td>1</td>\n",
       "      <td>1.5 Insertion of catheter or spinal stimulator...</td>\n",
       "    </tr>\n",
       "  </tbody>\n",
       "</table>\n",
       "</div>"
      ],
      "text/plain": [
       "   CCS_Procedure_Code  CCS_Procedure_Group  \\\n",
       "0                   1                    1   \n",
       "1                   2                    1   \n",
       "2                   3                    1   \n",
       "3                   4                    1   \n",
       "4                   5                    1   \n",
       "\n",
       "                      CCS_Procedure_Full_Description  \n",
       "0               1.1 Incision and excision of CNS [1]  \n",
       "1  1.2 Insertion; replacement; or removal of extr...  \n",
       "2  1.3 Laminectomy; excision intervertebral disc [3]  \n",
       "3                      1.4 Diagnostic spinal tap [4]  \n",
       "4  1.5 Insertion of catheter or spinal stimulator...  "
      ]
     },
     "execution_count": 38,
     "metadata": {},
     "output_type": "execute_result"
    }
   ],
   "source": [
    "Procedure.head()"
   ]
  },
  {
   "cell_type": "code",
   "execution_count": 39,
   "metadata": {},
   "outputs": [],
   "source": [
    "Diagnosis=Diagnosis.drop(['CCS_Diagnosis_Full_Description'], axis=1)\n",
    "Procedure=Procedure.drop(['CCS_Procedure_Full_Description'], axis=1)"
   ]
  },
  {
   "cell_type": "code",
   "execution_count": 40,
   "metadata": {},
   "outputs": [],
   "source": [
    "Diagnosis['CCS_Diagnosis_Code'] = pd.to_numeric(Diagnosis['CCS_Diagnosis_Code'], errors='coerce')\n",
    "Procedure['CCS_Procedure_Code'] = pd.to_numeric(Procedure['CCS_Procedure_Code'], errors='coerce')"
   ]
  },
  {
   "cell_type": "code",
   "execution_count": 41,
   "metadata": {},
   "outputs": [],
   "source": [
    "df=pd.merge(left=df,right=Diagnosis,how='left',on='CCS_Diagnosis_Code')\n",
    "df=pd.merge(left=df,right=Procedure,how='left',on='CCS_Procedure_Code')"
   ]
  },
  {
   "cell_type": "code",
   "execution_count": 42,
   "metadata": {},
   "outputs": [],
   "source": [
    "df.fillna({'CCS_Diagnosis_Group':0, 'CCS_Procedure_Group':0}, inplace=True)"
   ]
  },
  {
   "cell_type": "code",
   "execution_count": 43,
   "metadata": {},
   "outputs": [],
   "source": [
    "df[['CCS_Diagnosis_Group','CCS_Procedure_Group']]=df[['CCS_Diagnosis_Group','CCS_Procedure_Group']].astype('category')"
   ]
  },
  {
   "cell_type": "code",
   "execution_count": 44,
   "metadata": {},
   "outputs": [
    {
     "data": {
      "image/png": "[encoded data removed]",
      "text/plain": [
       "<Figure size 1296x432 with 2 Axes>"
      ]
     },
     "metadata": {
      "needs_background": "light"
     },
     "output_type": "display_data"
    }
   ],
   "source": [
    "# Visualization of different groups\n",
    "fig, ax = plt.subplots(nrows=1, ncols=2, figsize=(18, 6))\n",
    "sns.countplot(x='CCS_Diagnosis_Group', data=df, ax=ax[0],order = df['CCS_Diagnosis_Group'].value_counts().index)\n",
    "ax[0].set_title('Count Plot of CCS_Diagnosis_Group', fontsize=16)\n",
    "\n",
    "sns.barplot(x='CCS_Diagnosis_Group', y='Length_of_Stay', data=df, ax=ax[1],order = df['CCS_Diagnosis_Group'].value_counts().index)\n",
    "ax[1].set_title('Mean Length_of_Stay by CCS_Diagnosis_Group', fontsize=16)\n",
    "plt.tight_layout()\n",
    "plt.show()"
   ]
  },
  {
   "cell_type": "code",
   "execution_count": 45,
   "metadata": {},
   "outputs": [
    {
     "data": {
      "image/png": "[encoded data removed]",
      "text/plain": [
       "<Figure size 1296x432 with 2 Axes>"
      ]
     },
     "metadata": {
      "needs_background": "light"
     },
     "output_type": "display_data"
    }
   ],
   "source": [
    "# Visualization of different Procedure groups\n",
    "fig, ax = plt.subplots(nrows=1, ncols=2, figsize=(18, 6))\n",
    "sns.countplot(x='CCS_Procedure_Group', data=df, ax=ax[0],order = df['CCS_Procedure_Group'].value_counts().index)\n",
    "ax[0].set_title('Count Plot of CCS_Procedure_Group', fontsize=16)\n",
    "\n",
    "sns.barplot(x='CCS_Procedure_Group', y='Length_of_Stay', data=df, ax=ax[1],order = df['CCS_Procedure_Group'].value_counts().index)\n",
    "ax[1].set_title('Mean Length_of_Stay by CCS_Procedure_Group', fontsize=16)\n",
    "plt.tight_layout()\n",
    "plt.show()"
   ]
  },
  {
   "cell_type": "markdown",
   "metadata": {},
   "source": [
    "* For diagnosis, diseases of the circulatory system and complications of pregnancy are the top diagnosis group for inpatients.Although Mental illness (group number 5) is not the most frequent group, it has longest LOS.\n",
    "* For procedures, Miscellaneous diagnostic and therapeutic procedures(group number 16) is the top frequent procedure group. However, the longest LOS procedure group is Operations on the hemic and lymphatic system (group number 8), even though the occurance is small.\n",
    "* Seems that all groupings are as expected , which means we can replace group level by code level as model's input features."
   ]
  },
  {
   "cell_type": "code",
   "execution_count": 46,
   "metadata": {},
   "outputs": [
    {
     "data": {
      "text/html": [
       "<div>\n",
       "<style scoped>\n",
       "    .dataframe tbody tr th:only-of-type {\n",
       "        vertical-align: middle;\n",
       "    }\n",
       "\n",
       "    .dataframe tbody tr th {\n",
       "        vertical-align: top;\n",
       "    }\n",
       "\n",
       "    .dataframe thead th {\n",
       "        text-align: right;\n",
       "    }\n",
       "</style>\n",
       "<table border=\"1\" class=\"dataframe\">\n",
       "  <thead>\n",
       "    <tr style=\"text-align: right;\">\n",
       "      <th></th>\n",
       "      <th>Health_Service_Area</th>\n",
       "      <th>Hospital_County</th>\n",
       "      <th>Operating_Certificate_Number</th>\n",
       "      <th>Facility_Id</th>\n",
       "      <th>Facility_Name</th>\n",
       "      <th>Age_Group</th>\n",
       "      <th>Zip_Code__3_digits</th>\n",
       "      <th>Gender</th>\n",
       "      <th>Race</th>\n",
       "      <th>Ethnicity</th>\n",
       "      <th>Length_of_Stay</th>\n",
       "      <th>Type_of_Admission</th>\n",
       "      <th>Patient_Disposition</th>\n",
       "      <th>Discharge_Year</th>\n",
       "      <th>CCS_Diagnosis_Code</th>\n",
       "      <th>CCS_Diagnosis_Description</th>\n",
       "      <th>CCS_Procedure_Code</th>\n",
       "      <th>CCS_Procedure_Description</th>\n",
       "      <th>APR_DRG_Code</th>\n",
       "      <th>APR_DRG_Description</th>\n",
       "      <th>APR_MDC_Code</th>\n",
       "      <th>APR_MDC_Description</th>\n",
       "      <th>APR_Severity_of_Illness_Code</th>\n",
       "      <th>APR_Severity_of_Illness_Description</th>\n",
       "      <th>APR_Risk_of_Mortality</th>\n",
       "      <th>APR_Medical_Surgical_Description</th>\n",
       "      <th>Payment_Typology_1</th>\n",
       "      <th>Payment_Typology_2</th>\n",
       "      <th>Payment_Typology_3</th>\n",
       "      <th>Attending_Provider_License_Number</th>\n",
       "      <th>Operating_Provider_License_Number</th>\n",
       "      <th>Other_Provider_License_Number</th>\n",
       "      <th>Birth_Weight</th>\n",
       "      <th>Abortion_Edit_Indicator</th>\n",
       "      <th>Emergency_Department_Indicator</th>\n",
       "      <th>Total_Charges</th>\n",
       "      <th>Total_Costs</th>\n",
       "      <th>outliers</th>\n",
       "      <th>top_facility_ind</th>\n",
       "      <th>observational_status</th>\n",
       "      <th>ethnicity_combine</th>\n",
       "      <th>CCS_Diagnosis_Group</th>\n",
       "      <th>CCS_Procedure_Group</th>\n",
       "    </tr>\n",
       "  </thead>\n",
       "  <tbody>\n",
       "    <tr>\n",
       "      <th>0</th>\n",
       "      <td>Western NY</td>\n",
       "      <td>Allegany</td>\n",
       "      <td>226700.000</td>\n",
       "      <td>37.000</td>\n",
       "      <td>Cuba Memorial Hospital Inc</td>\n",
       "      <td>70 or Older</td>\n",
       "      <td>147</td>\n",
       "      <td>F</td>\n",
       "      <td>White</td>\n",
       "      <td>Not Span/Hispanic</td>\n",
       "      <td>4</td>\n",
       "      <td>Urgent</td>\n",
       "      <td>Home or Self Care</td>\n",
       "      <td>2015</td>\n",
       "      <td>122</td>\n",
       "      <td>Pneumonia (except that caused by tuberculosis ...</td>\n",
       "      <td>0</td>\n",
       "      <td>NO PROC</td>\n",
       "      <td>139</td>\n",
       "      <td>Other pneumonia</td>\n",
       "      <td>4</td>\n",
       "      <td>Diseases and Disorders of the Respiratory System</td>\n",
       "      <td>2</td>\n",
       "      <td>Moderate</td>\n",
       "      <td>Minor</td>\n",
       "      <td>Medical</td>\n",
       "      <td>Medicare</td>\n",
       "      <td>Private Health Insurance</td>\n",
       "      <td>NaN</td>\n",
       "      <td>90335341.000</td>\n",
       "      <td>nan</td>\n",
       "      <td>nan</td>\n",
       "      <td>0</td>\n",
       "      <td>N</td>\n",
       "      <td>Y</td>\n",
       "      <td>5333.900</td>\n",
       "      <td>4818.420</td>\n",
       "      <td>0</td>\n",
       "      <td>0.000</td>\n",
       "      <td>1</td>\n",
       "      <td>White</td>\n",
       "      <td>8.000</td>\n",
       "      <td>0.000</td>\n",
       "    </tr>\n",
       "    <tr>\n",
       "      <th>1</th>\n",
       "      <td>Western NY</td>\n",
       "      <td>Allegany</td>\n",
       "      <td>226700.000</td>\n",
       "      <td>37.000</td>\n",
       "      <td>Cuba Memorial Hospital Inc</td>\n",
       "      <td>70 or Older</td>\n",
       "      <td>147</td>\n",
       "      <td>F</td>\n",
       "      <td>White</td>\n",
       "      <td>Not Span/Hispanic</td>\n",
       "      <td>4</td>\n",
       "      <td>Elective</td>\n",
       "      <td>Hosp Basd Medicare Approved Swing Bed</td>\n",
       "      <td>2015</td>\n",
       "      <td>55</td>\n",
       "      <td>Fluid and electrolyte disorders</td>\n",
       "      <td>0</td>\n",
       "      <td>NO PROC</td>\n",
       "      <td>422</td>\n",
       "      <td>Hypovolemia &amp; related electrolyte disorders</td>\n",
       "      <td>10</td>\n",
       "      <td>Endocrine, Nutritional and Metabolic Diseases ...</td>\n",
       "      <td>2</td>\n",
       "      <td>Moderate</td>\n",
       "      <td>Moderate</td>\n",
       "      <td>Medical</td>\n",
       "      <td>Medicare</td>\n",
       "      <td>NaN</td>\n",
       "      <td>NaN</td>\n",
       "      <td>90335341.000</td>\n",
       "      <td>nan</td>\n",
       "      <td>nan</td>\n",
       "      <td>0</td>\n",
       "      <td>N</td>\n",
       "      <td>Y</td>\n",
       "      <td>4865.990</td>\n",
       "      <td>4588.780</td>\n",
       "      <td>0</td>\n",
       "      <td>0.000</td>\n",
       "      <td>1</td>\n",
       "      <td>White</td>\n",
       "      <td>3.000</td>\n",
       "      <td>0.000</td>\n",
       "    </tr>\n",
       "    <tr>\n",
       "      <th>2</th>\n",
       "      <td>Western NY</td>\n",
       "      <td>Allegany</td>\n",
       "      <td>226700.000</td>\n",
       "      <td>37.000</td>\n",
       "      <td>Cuba Memorial Hospital Inc</td>\n",
       "      <td>70 or Older</td>\n",
       "      <td>147</td>\n",
       "      <td>F</td>\n",
       "      <td>White</td>\n",
       "      <td>Not Span/Hispanic</td>\n",
       "      <td>4</td>\n",
       "      <td>Urgent</td>\n",
       "      <td>Home or Self Care</td>\n",
       "      <td>2015</td>\n",
       "      <td>122</td>\n",
       "      <td>Pneumonia (except that caused by tuberculosis ...</td>\n",
       "      <td>202</td>\n",
       "      <td>ELECTROCARDIOGRAM</td>\n",
       "      <td>139</td>\n",
       "      <td>Other pneumonia</td>\n",
       "      <td>4</td>\n",
       "      <td>Diseases and Disorders of the Respiratory System</td>\n",
       "      <td>1</td>\n",
       "      <td>Minor</td>\n",
       "      <td>Minor</td>\n",
       "      <td>Medical</td>\n",
       "      <td>Medicare</td>\n",
       "      <td>Private Health Insurance</td>\n",
       "      <td>NaN</td>\n",
       "      <td>90335341.000</td>\n",
       "      <td>167816.000</td>\n",
       "      <td>nan</td>\n",
       "      <td>0</td>\n",
       "      <td>N</td>\n",
       "      <td>Y</td>\n",
       "      <td>5901.540</td>\n",
       "      <td>5559.560</td>\n",
       "      <td>0</td>\n",
       "      <td>0.000</td>\n",
       "      <td>0</td>\n",
       "      <td>White</td>\n",
       "      <td>8.000</td>\n",
       "      <td>16.000</td>\n",
       "    </tr>\n",
       "    <tr>\n",
       "      <th>3</th>\n",
       "      <td>Western NY</td>\n",
       "      <td>Allegany</td>\n",
       "      <td>226700.000</td>\n",
       "      <td>37.000</td>\n",
       "      <td>Cuba Memorial Hospital Inc</td>\n",
       "      <td>50 to 69</td>\n",
       "      <td>147</td>\n",
       "      <td>F</td>\n",
       "      <td>White</td>\n",
       "      <td>Not Span/Hispanic</td>\n",
       "      <td>2</td>\n",
       "      <td>Elective</td>\n",
       "      <td>Home or Self Care</td>\n",
       "      <td>2015</td>\n",
       "      <td>55</td>\n",
       "      <td>Fluid and electrolyte disorders</td>\n",
       "      <td>0</td>\n",
       "      <td>NO PROC</td>\n",
       "      <td>249</td>\n",
       "      <td>Other gastroenteritis, nausa &amp; vomiting</td>\n",
       "      <td>6</td>\n",
       "      <td>Diseases and Disorders of the Digestive System</td>\n",
       "      <td>2</td>\n",
       "      <td>Moderate</td>\n",
       "      <td>Minor</td>\n",
       "      <td>Medical</td>\n",
       "      <td>Medicare</td>\n",
       "      <td>NaN</td>\n",
       "      <td>NaN</td>\n",
       "      <td>90335341.000</td>\n",
       "      <td>nan</td>\n",
       "      <td>nan</td>\n",
       "      <td>0</td>\n",
       "      <td>N</td>\n",
       "      <td>Y</td>\n",
       "      <td>3619.080</td>\n",
       "      <td>3567.250</td>\n",
       "      <td>0</td>\n",
       "      <td>0.000</td>\n",
       "      <td>1</td>\n",
       "      <td>White</td>\n",
       "      <td>3.000</td>\n",
       "      <td>0.000</td>\n",
       "    </tr>\n",
       "    <tr>\n",
       "      <th>4</th>\n",
       "      <td>Western NY</td>\n",
       "      <td>Allegany</td>\n",
       "      <td>226700.000</td>\n",
       "      <td>37.000</td>\n",
       "      <td>Cuba Memorial Hospital Inc</td>\n",
       "      <td>70 or Older</td>\n",
       "      <td>147</td>\n",
       "      <td>M</td>\n",
       "      <td>White</td>\n",
       "      <td>Not Span/Hispanic</td>\n",
       "      <td>2</td>\n",
       "      <td>Elective</td>\n",
       "      <td>Home or Self Care</td>\n",
       "      <td>2015</td>\n",
       "      <td>122</td>\n",
       "      <td>Pneumonia (except that caused by tuberculosis ...</td>\n",
       "      <td>0</td>\n",
       "      <td>NO PROC</td>\n",
       "      <td>139</td>\n",
       "      <td>Other pneumonia</td>\n",
       "      <td>4</td>\n",
       "      <td>Diseases and Disorders of the Respiratory System</td>\n",
       "      <td>1</td>\n",
       "      <td>Minor</td>\n",
       "      <td>Moderate</td>\n",
       "      <td>Medical</td>\n",
       "      <td>Medicare</td>\n",
       "      <td>Blue Cross/Blue Shield</td>\n",
       "      <td>Private Health Insurance</td>\n",
       "      <td>90335341.000</td>\n",
       "      <td>nan</td>\n",
       "      <td>nan</td>\n",
       "      <td>0</td>\n",
       "      <td>N</td>\n",
       "      <td>Y</td>\n",
       "      <td>3185.870</td>\n",
       "      <td>3167.890</td>\n",
       "      <td>0</td>\n",
       "      <td>0.000</td>\n",
       "      <td>1</td>\n",
       "      <td>White</td>\n",
       "      <td>8.000</td>\n",
       "      <td>0.000</td>\n",
       "    </tr>\n",
       "  </tbody>\n",
       "</table>\n",
       "</div>"
      ],
      "text/plain": [
       "  Health_Service_Area Hospital_County Operating_Certificate_Number  \\\n",
       "0          Western NY        Allegany                   226700.000   \n",
       "1          Western NY        Allegany                   226700.000   \n",
       "2          Western NY        Allegany                   226700.000   \n",
       "3          Western NY        Allegany                   226700.000   \n",
       "4          Western NY        Allegany                   226700.000   \n",
       "\n",
       "  Facility_Id               Facility_Name    Age_Group Zip_Code__3_digits  \\\n",
       "0      37.000  Cuba Memorial Hospital Inc  70 or Older                147   \n",
       "1      37.000  Cuba Memorial Hospital Inc  70 or Older                147   \n",
       "2      37.000  Cuba Memorial Hospital Inc  70 or Older                147   \n",
       "3      37.000  Cuba Memorial Hospital Inc     50 to 69                147   \n",
       "4      37.000  Cuba Memorial Hospital Inc  70 or Older                147   \n",
       "\n",
       "  Gender   Race          Ethnicity  Length_of_Stay Type_of_Admission  \\\n",
       "0      F  White  Not Span/Hispanic               4            Urgent   \n",
       "1      F  White  Not Span/Hispanic               4          Elective   \n",
       "2      F  White  Not Span/Hispanic               4            Urgent   \n",
       "3      F  White  Not Span/Hispanic               2          Elective   \n",
       "4      M  White  Not Span/Hispanic               2          Elective   \n",
       "\n",
       "                     Patient_Disposition Discharge_Year  CCS_Diagnosis_Code  \\\n",
       "0                      Home or Self Care           2015                 122   \n",
       "1  Hosp Basd Medicare Approved Swing Bed           2015                  55   \n",
       "2                      Home or Self Care           2015                 122   \n",
       "3                      Home or Self Care           2015                  55   \n",
       "4                      Home or Self Care           2015                 122   \n",
       "\n",
       "                           CCS_Diagnosis_Description  CCS_Procedure_Code  \\\n",
       "0  Pneumonia (except that caused by tuberculosis ...                   0   \n",
       "1                    Fluid and electrolyte disorders                   0   \n",
       "2  Pneumonia (except that caused by tuberculosis ...                 202   \n",
       "3                    Fluid and electrolyte disorders                   0   \n",
       "4  Pneumonia (except that caused by tuberculosis ...                   0   \n",
       "\n",
       "  CCS_Procedure_Description APR_DRG_Code  \\\n",
       "0                   NO PROC          139   \n",
       "1                   NO PROC          422   \n",
       "2         ELECTROCARDIOGRAM          139   \n",
       "3                   NO PROC          249   \n",
       "4                   NO PROC          139   \n",
       "\n",
       "                           APR_DRG_Description APR_MDC_Code  \\\n",
       "0                              Other pneumonia            4   \n",
       "1  Hypovolemia & related electrolyte disorders           10   \n",
       "2                              Other pneumonia            4   \n",
       "3      Other gastroenteritis, nausa & vomiting            6   \n",
       "4                              Other pneumonia            4   \n",
       "\n",
       "                                 APR_MDC_Description  \\\n",
       "0   Diseases and Disorders of the Respiratory System   \n",
       "1  Endocrine, Nutritional and Metabolic Diseases ...   \n",
       "2   Diseases and Disorders of the Respiratory System   \n",
       "3     Diseases and Disorders of the Digestive System   \n",
       "4   Diseases and Disorders of the Respiratory System   \n",
       "\n",
       "  APR_Severity_of_Illness_Code APR_Severity_of_Illness_Description  \\\n",
       "0                            2                            Moderate   \n",
       "1                            2                            Moderate   \n",
       "2                            1                               Minor   \n",
       "3                            2                            Moderate   \n",
       "4                            1                               Minor   \n",
       "\n",
       "  APR_Risk_of_Mortality APR_Medical_Surgical_Description Payment_Typology_1  \\\n",
       "0                 Minor                          Medical           Medicare   \n",
       "1              Moderate                          Medical           Medicare   \n",
       "2                 Minor                          Medical           Medicare   \n",
       "3                 Minor                          Medical           Medicare   \n",
       "4              Moderate                          Medical           Medicare   \n",
       "\n",
       "         Payment_Typology_2        Payment_Typology_3  \\\n",
       "0  Private Health Insurance                       NaN   \n",
       "1                       NaN                       NaN   \n",
       "2  Private Health Insurance                       NaN   \n",
       "3                       NaN                       NaN   \n",
       "4    Blue Cross/Blue Shield  Private Health Insurance   \n",
       "\n",
       "  Attending_Provider_License_Number Operating_Provider_License_Number  \\\n",
       "0                      90335341.000                               nan   \n",
       "1                      90335341.000                               nan   \n",
       "2                      90335341.000                        167816.000   \n",
       "3                      90335341.000                               nan   \n",
       "4                      90335341.000                               nan   \n",
       "\n",
       "  Other_Provider_License_Number  Birth_Weight Abortion_Edit_Indicator  \\\n",
       "0                           nan             0                       N   \n",
       "1                           nan             0                       N   \n",
       "2                           nan             0                       N   \n",
       "3                           nan             0                       N   \n",
       "4                           nan             0                       N   \n",
       "\n",
       "  Emergency_Department_Indicator  Total_Charges  Total_Costs  outliers  \\\n",
       "0                              Y       5333.900     4818.420         0   \n",
       "1                              Y       4865.990     4588.780         0   \n",
       "2                              Y       5901.540     5559.560         0   \n",
       "3                              Y       3619.080     3567.250         0   \n",
       "4                              Y       3185.870     3167.890         0   \n",
       "\n",
       "   top_facility_ind  observational_status ethnicity_combine  \\\n",
       "0             0.000                     1             White   \n",
       "1             0.000                     1             White   \n",
       "2             0.000                     0             White   \n",
       "3             0.000                     1             White   \n",
       "4             0.000                     1             White   \n",
       "\n",
       "  CCS_Diagnosis_Group CCS_Procedure_Group  \n",
       "0               8.000               0.000  \n",
       "1               3.000               0.000  \n",
       "2               8.000              16.000  \n",
       "3               3.000               0.000  \n",
       "4               8.000               0.000  "
      ]
     },
     "execution_count": 46,
     "metadata": {},
     "output_type": "execute_result"
    }
   ],
   "source": [
    "df.head()"
   ]
  },
  {
   "cell_type": "code",
   "execution_count": 47,
   "metadata": {
    "scrolled": true
   },
   "outputs": [
    {
     "data": {
      "text/html": [
       "<div>\n",
       "<style scoped>\n",
       "    .dataframe tbody tr th:only-of-type {\n",
       "        vertical-align: middle;\n",
       "    }\n",
       "\n",
       "    .dataframe tbody tr th {\n",
       "        vertical-align: top;\n",
       "    }\n",
       "\n",
       "    .dataframe thead th {\n",
       "        text-align: right;\n",
       "    }\n",
       "</style>\n",
       "<table border=\"1\" class=\"dataframe\">\n",
       "  <thead>\n",
       "    <tr style=\"text-align: right;\">\n",
       "      <th></th>\n",
       "      <th>avg</th>\n",
       "      <th>cnt</th>\n",
       "    </tr>\n",
       "    <tr>\n",
       "      <th>Hospital_County</th>\n",
       "      <th></th>\n",
       "      <th></th>\n",
       "    </tr>\n",
       "  </thead>\n",
       "  <tbody>\n",
       "    <tr>\n",
       "      <th>Albany</th>\n",
       "      <td>5.671</td>\n",
       "      <td>65722</td>\n",
       "    </tr>\n",
       "    <tr>\n",
       "      <th>Allegany</th>\n",
       "      <td>3.416</td>\n",
       "      <td>2117</td>\n",
       "    </tr>\n",
       "    <tr>\n",
       "      <th>Bronx</th>\n",
       "      <td>5.570</td>\n",
       "      <td>188180</td>\n",
       "    </tr>\n",
       "    <tr>\n",
       "      <th>Broome</th>\n",
       "      <td>5.162</td>\n",
       "      <td>28556</td>\n",
       "    </tr>\n",
       "    <tr>\n",
       "      <th>Cattaraugus</th>\n",
       "      <td>4.261</td>\n",
       "      <td>5910</td>\n",
       "    </tr>\n",
       "    <tr>\n",
       "      <th>Cayuga</th>\n",
       "      <td>4.401</td>\n",
       "      <td>5351</td>\n",
       "    </tr>\n",
       "    <tr>\n",
       "      <th>Chautauqua</th>\n",
       "      <td>4.813</td>\n",
       "      <td>10492</td>\n",
       "    </tr>\n",
       "    <tr>\n",
       "      <th>Chemung</th>\n",
       "      <td>5.519</td>\n",
       "      <td>13856</td>\n",
       "    </tr>\n",
       "    <tr>\n",
       "      <th>Chenango</th>\n",
       "      <td>3.491</td>\n",
       "      <td>1645</td>\n",
       "    </tr>\n",
       "    <tr>\n",
       "      <th>Clinton</th>\n",
       "      <td>5.281</td>\n",
       "      <td>9819</td>\n",
       "    </tr>\n",
       "    <tr>\n",
       "      <th>Columbia</th>\n",
       "      <td>5.284</td>\n",
       "      <td>5847</td>\n",
       "    </tr>\n",
       "    <tr>\n",
       "      <th>Cortland</th>\n",
       "      <td>3.902</td>\n",
       "      <td>3930</td>\n",
       "    </tr>\n",
       "    <tr>\n",
       "      <th>Delaware</th>\n",
       "      <td>4.870</td>\n",
       "      <td>693</td>\n",
       "    </tr>\n",
       "    <tr>\n",
       "      <th>Dutchess</th>\n",
       "      <td>4.995</td>\n",
       "      <td>32594</td>\n",
       "    </tr>\n",
       "    <tr>\n",
       "      <th>Erie</th>\n",
       "      <td>5.373</td>\n",
       "      <td>120564</td>\n",
       "    </tr>\n",
       "    <tr>\n",
       "      <th>Essex</th>\n",
       "      <td>2.912</td>\n",
       "      <td>479</td>\n",
       "    </tr>\n",
       "    <tr>\n",
       "      <th>Franklin</th>\n",
       "      <td>3.904</td>\n",
       "      <td>4597</td>\n",
       "    </tr>\n",
       "    <tr>\n",
       "      <th>Fulton</th>\n",
       "      <td>3.543</td>\n",
       "      <td>2932</td>\n",
       "    </tr>\n",
       "    <tr>\n",
       "      <th>Genesee</th>\n",
       "      <td>4.553</td>\n",
       "      <td>4292</td>\n",
       "    </tr>\n",
       "    <tr>\n",
       "      <th>Herkimer</th>\n",
       "      <td>3.978</td>\n",
       "      <td>736</td>\n",
       "    </tr>\n",
       "    <tr>\n",
       "      <th>Jefferson</th>\n",
       "      <td>4.520</td>\n",
       "      <td>10829</td>\n",
       "    </tr>\n",
       "    <tr>\n",
       "      <th>Kings</th>\n",
       "      <td>5.716</td>\n",
       "      <td>248771</td>\n",
       "    </tr>\n",
       "    <tr>\n",
       "      <th>Lewis</th>\n",
       "      <td>2.674</td>\n",
       "      <td>1417</td>\n",
       "    </tr>\n",
       "    <tr>\n",
       "      <th>Livingston</th>\n",
       "      <td>3.485</td>\n",
       "      <td>2296</td>\n",
       "    </tr>\n",
       "    <tr>\n",
       "      <th>Madison</th>\n",
       "      <td>3.035</td>\n",
       "      <td>4709</td>\n",
       "    </tr>\n",
       "    <tr>\n",
       "      <th>Manhattan</th>\n",
       "      <td>5.588</td>\n",
       "      <td>400977</td>\n",
       "    </tr>\n",
       "    <tr>\n",
       "      <th>Monroe</th>\n",
       "      <td>5.755</td>\n",
       "      <td>105166</td>\n",
       "    </tr>\n",
       "    <tr>\n",
       "      <th>Montgomery</th>\n",
       "      <td>4.898</td>\n",
       "      <td>6924</td>\n",
       "    </tr>\n",
       "    <tr>\n",
       "      <th>Nassau</th>\n",
       "      <td>5.461</td>\n",
       "      <td>181192</td>\n",
       "    </tr>\n",
       "    <tr>\n",
       "      <th>Niagara</th>\n",
       "      <td>5.343</td>\n",
       "      <td>17156</td>\n",
       "    </tr>\n",
       "    <tr>\n",
       "      <th>Oneida</th>\n",
       "      <td>4.822</td>\n",
       "      <td>29911</td>\n",
       "    </tr>\n",
       "    <tr>\n",
       "      <th>Onondaga</th>\n",
       "      <td>5.560</td>\n",
       "      <td>78389</td>\n",
       "    </tr>\n",
       "    <tr>\n",
       "      <th>Ontario</th>\n",
       "      <td>4.885</td>\n",
       "      <td>11949</td>\n",
       "    </tr>\n",
       "    <tr>\n",
       "      <th>Orange</th>\n",
       "      <td>4.902</td>\n",
       "      <td>39502</td>\n",
       "    </tr>\n",
       "    <tr>\n",
       "      <th>Orleans</th>\n",
       "      <td>5.338</td>\n",
       "      <td>1250</td>\n",
       "    </tr>\n",
       "    <tr>\n",
       "      <th>Oswego</th>\n",
       "      <td>4.972</td>\n",
       "      <td>4717</td>\n",
       "    </tr>\n",
       "    <tr>\n",
       "      <th>Otsego</th>\n",
       "      <td>4.797</td>\n",
       "      <td>12266</td>\n",
       "    </tr>\n",
       "    <tr>\n",
       "      <th>Putnam</th>\n",
       "      <td>4.335</td>\n",
       "      <td>6795</td>\n",
       "    </tr>\n",
       "    <tr>\n",
       "      <th>Queens</th>\n",
       "      <td>5.389</td>\n",
       "      <td>197360</td>\n",
       "    </tr>\n",
       "    <tr>\n",
       "      <th>Rensselaer</th>\n",
       "      <td>5.577</td>\n",
       "      <td>11957</td>\n",
       "    </tr>\n",
       "    <tr>\n",
       "      <th>Richmond</th>\n",
       "      <td>5.304</td>\n",
       "      <td>56916</td>\n",
       "    </tr>\n",
       "    <tr>\n",
       "      <th>Rockland</th>\n",
       "      <td>5.299</td>\n",
       "      <td>31941</td>\n",
       "    </tr>\n",
       "    <tr>\n",
       "      <th>Saratoga</th>\n",
       "      <td>5.051</td>\n",
       "      <td>9237</td>\n",
       "    </tr>\n",
       "    <tr>\n",
       "      <th>Schenectady</th>\n",
       "      <td>5.586</td>\n",
       "      <td>22326</td>\n",
       "    </tr>\n",
       "    <tr>\n",
       "      <th>Schoharie</th>\n",
       "      <td>3.482</td>\n",
       "      <td>477</td>\n",
       "    </tr>\n",
       "    <tr>\n",
       "      <th>Schuyler</th>\n",
       "      <td>3.867</td>\n",
       "      <td>603</td>\n",
       "    </tr>\n",
       "    <tr>\n",
       "      <th>St Lawrence</th>\n",
       "      <td>4.681</td>\n",
       "      <td>11107</td>\n",
       "    </tr>\n",
       "    <tr>\n",
       "      <th>Steuben</th>\n",
       "      <td>3.720</td>\n",
       "      <td>6306</td>\n",
       "    </tr>\n",
       "    <tr>\n",
       "      <th>Suffolk</th>\n",
       "      <td>5.324</td>\n",
       "      <td>158133</td>\n",
       "    </tr>\n",
       "    <tr>\n",
       "      <th>Sullivan</th>\n",
       "      <td>4.945</td>\n",
       "      <td>4355</td>\n",
       "    </tr>\n",
       "    <tr>\n",
       "      <th>Tompkins</th>\n",
       "      <td>4.573</td>\n",
       "      <td>7246</td>\n",
       "    </tr>\n",
       "    <tr>\n",
       "      <th>Ulster</th>\n",
       "      <td>5.269</td>\n",
       "      <td>11359</td>\n",
       "    </tr>\n",
       "    <tr>\n",
       "      <th>Warren</th>\n",
       "      <td>4.906</td>\n",
       "      <td>14092</td>\n",
       "    </tr>\n",
       "    <tr>\n",
       "      <th>Wayne</th>\n",
       "      <td>3.905</td>\n",
       "      <td>5658</td>\n",
       "    </tr>\n",
       "    <tr>\n",
       "      <th>Westchester</th>\n",
       "      <td>6.727</td>\n",
       "      <td>119410</td>\n",
       "    </tr>\n",
       "    <tr>\n",
       "      <th>Wyoming</th>\n",
       "      <td>4.676</td>\n",
       "      <td>2265</td>\n",
       "    </tr>\n",
       "    <tr>\n",
       "      <th>Yates</th>\n",
       "      <td>4.114</td>\n",
       "      <td>747</td>\n",
       "    </tr>\n",
       "  </tbody>\n",
       "</table>\n",
       "</div>"
      ],
      "text/plain": [
       "                  avg     cnt\n",
       "Hospital_County              \n",
       "Albany          5.671   65722\n",
       "Allegany        3.416    2117\n",
       "Bronx           5.570  188180\n",
       "Broome          5.162   28556\n",
       "Cattaraugus     4.261    5910\n",
       "Cayuga          4.401    5351\n",
       "Chautauqua      4.813   10492\n",
       "Chemung         5.519   13856\n",
       "Chenango        3.491    1645\n",
       "Clinton         5.281    9819\n",
       "Columbia        5.284    5847\n",
       "Cortland        3.902    3930\n",
       "Delaware        4.870     693\n",
       "Dutchess        4.995   32594\n",
       "Erie            5.373  120564\n",
       "Essex           2.912     479\n",
       "Franklin        3.904    4597\n",
       "Fulton          3.543    2932\n",
       "Genesee         4.553    4292\n",
       "Herkimer        3.978     736\n",
       "Jefferson       4.520   10829\n",
       "Kings           5.716  248771\n",
       "Lewis           2.674    1417\n",
       "Livingston      3.485    2296\n",
       "Madison         3.035    4709\n",
       "Manhattan       5.588  400977\n",
       "Monroe          5.755  105166\n",
       "Montgomery      4.898    6924\n",
       "Nassau          5.461  181192\n",
       "Niagara         5.343   17156\n",
       "Oneida          4.822   29911\n",
       "Onondaga        5.560   78389\n",
       "Ontario         4.885   11949\n",
       "Orange          4.902   39502\n",
       "Orleans         5.338    1250\n",
       "Oswego          4.972    4717\n",
       "Otsego          4.797   12266\n",
       "Putnam          4.335    6795\n",
       "Queens          5.389  197360\n",
       "Rensselaer      5.577   11957\n",
       "Richmond        5.304   56916\n",
       "Rockland        5.299   31941\n",
       "Saratoga        5.051    9237\n",
       "Schenectady     5.586   22326\n",
       "Schoharie       3.482     477\n",
       "Schuyler        3.867     603\n",
       "St Lawrence     4.681   11107\n",
       "Steuben         3.720    6306\n",
       "Suffolk         5.324  158133\n",
       "Sullivan        4.945    4355\n",
       "Tompkins        4.573    7246\n",
       "Ulster          5.269   11359\n",
       "Warren          4.906   14092\n",
       "Wayne           3.905    5658\n",
       "Westchester     6.727  119410\n",
       "Wyoming         4.676    2265\n",
       "Yates           4.114     747"
      ]
     },
     "execution_count": 47,
     "metadata": {},
     "output_type": "execute_result"
    }
   ],
   "source": [
    "df.groupby('Hospital_County')['Length_of_Stay'].agg({'avg':'mean','cnt':'count'})"
   ]
  },
  {
   "cell_type": "code",
   "execution_count": 48,
   "metadata": {},
   "outputs": [
    {
     "data": {
      "text/html": [
       "<div>\n",
       "<style scoped>\n",
       "    .dataframe tbody tr th:only-of-type {\n",
       "        vertical-align: middle;\n",
       "    }\n",
       "\n",
       "    .dataframe tbody tr th {\n",
       "        vertical-align: top;\n",
       "    }\n",
       "\n",
       "    .dataframe thead th {\n",
       "        text-align: right;\n",
       "    }\n",
       "</style>\n",
       "<table border=\"1\" class=\"dataframe\">\n",
       "  <thead>\n",
       "    <tr style=\"text-align: right;\">\n",
       "      <th></th>\n",
       "      <th>avg</th>\n",
       "      <th>cnt</th>\n",
       "    </tr>\n",
       "    <tr>\n",
       "      <th>Health_Service_Area</th>\n",
       "      <th></th>\n",
       "      <th></th>\n",
       "    </tr>\n",
       "  </thead>\n",
       "  <tbody>\n",
       "    <tr>\n",
       "      <th>Capital/Adiron</th>\n",
       "      <td>5.319</td>\n",
       "      <td>167368</td>\n",
       "    </tr>\n",
       "    <tr>\n",
       "      <th>Central NY</th>\n",
       "      <td>5.037</td>\n",
       "      <td>158342</td>\n",
       "    </tr>\n",
       "    <tr>\n",
       "      <th>Finger Lakes</th>\n",
       "      <td>5.451</td>\n",
       "      <td>146581</td>\n",
       "    </tr>\n",
       "    <tr>\n",
       "      <th>Hudson Valley</th>\n",
       "      <td>5.854</td>\n",
       "      <td>245956</td>\n",
       "    </tr>\n",
       "    <tr>\n",
       "      <th>Long Island</th>\n",
       "      <td>5.397</td>\n",
       "      <td>339325</td>\n",
       "    </tr>\n",
       "    <tr>\n",
       "      <th>New York City</th>\n",
       "      <td>5.563</td>\n",
       "      <td>1092204</td>\n",
       "    </tr>\n",
       "    <tr>\n",
       "      <th>Southern Tier</th>\n",
       "      <td>5.071</td>\n",
       "      <td>30201</td>\n",
       "    </tr>\n",
       "    <tr>\n",
       "      <th>Western NY</th>\n",
       "      <td>5.238</td>\n",
       "      <td>164046</td>\n",
       "    </tr>\n",
       "  </tbody>\n",
       "</table>\n",
       "</div>"
      ],
      "text/plain": [
       "                      avg      cnt\n",
       "Health_Service_Area               \n",
       "Capital/Adiron      5.319   167368\n",
       "Central NY          5.037   158342\n",
       "Finger Lakes        5.451   146581\n",
       "Hudson Valley       5.854   245956\n",
       "Long Island         5.397   339325\n",
       "New York City       5.563  1092204\n",
       "Southern Tier       5.071    30201\n",
       "Western NY          5.238   164046"
      ]
     },
     "execution_count": 48,
     "metadata": {},
     "output_type": "execute_result"
    }
   ],
   "source": [
    "#df.Health_Service_Area.value_counts(normalize=True,dropna=False)\n",
    "\n",
    "df.groupby('Health_Service_Area')['Length_of_Stay'].agg({'avg':'mean','cnt':'count'})"
   ]
  },
  {
   "cell_type": "code",
   "execution_count": 49,
   "metadata": {},
   "outputs": [
    {
     "data": {
      "text/html": [
       "<div>\n",
       "<style scoped>\n",
       "    .dataframe tbody tr th:only-of-type {\n",
       "        vertical-align: middle;\n",
       "    }\n",
       "\n",
       "    .dataframe tbody tr th {\n",
       "        vertical-align: top;\n",
       "    }\n",
       "\n",
       "    .dataframe thead th {\n",
       "        text-align: right;\n",
       "    }\n",
       "</style>\n",
       "<table border=\"1\" class=\"dataframe\">\n",
       "  <thead>\n",
       "    <tr style=\"text-align: right;\">\n",
       "      <th></th>\n",
       "      <th>avg</th>\n",
       "      <th>cnt</th>\n",
       "    </tr>\n",
       "    <tr>\n",
       "      <th>Payment_Typology_1</th>\n",
       "      <th></th>\n",
       "      <th></th>\n",
       "    </tr>\n",
       "  </thead>\n",
       "  <tbody>\n",
       "    <tr>\n",
       "      <th>Blue Cross/Blue Shield</th>\n",
       "      <td>4.156</td>\n",
       "      <td>275583</td>\n",
       "    </tr>\n",
       "    <tr>\n",
       "      <th>Department of Corrections</th>\n",
       "      <td>8.392</td>\n",
       "      <td>4642</td>\n",
       "    </tr>\n",
       "    <tr>\n",
       "      <th>Federal/State/Local/VA</th>\n",
       "      <td>4.357</td>\n",
       "      <td>12455</td>\n",
       "    </tr>\n",
       "    <tr>\n",
       "      <th>Managed Care, Unspecified</th>\n",
       "      <td>4.403</td>\n",
       "      <td>22998</td>\n",
       "    </tr>\n",
       "    <tr>\n",
       "      <th>Medicaid</th>\n",
       "      <td>5.251</td>\n",
       "      <td>731012</td>\n",
       "    </tr>\n",
       "    <tr>\n",
       "      <th>Medicare</th>\n",
       "      <td>6.605</td>\n",
       "      <td>883250</td>\n",
       "    </tr>\n",
       "    <tr>\n",
       "      <th>Miscellaneous/Other</th>\n",
       "      <td>5.617</td>\n",
       "      <td>29097</td>\n",
       "    </tr>\n",
       "    <tr>\n",
       "      <th>Private Health Insurance</th>\n",
       "      <td>4.294</td>\n",
       "      <td>334527</td>\n",
       "    </tr>\n",
       "    <tr>\n",
       "      <th>Self-Pay</th>\n",
       "      <td>4.347</td>\n",
       "      <td>47087</td>\n",
       "    </tr>\n",
       "    <tr>\n",
       "      <th>Unknown</th>\n",
       "      <td>5.784</td>\n",
       "      <td>6280</td>\n",
       "    </tr>\n",
       "  </tbody>\n",
       "</table>\n",
       "</div>"
      ],
      "text/plain": [
       "                            avg     cnt\n",
       "Payment_Typology_1                     \n",
       "Blue Cross/Blue Shield    4.156  275583\n",
       "Department of Corrections 8.392    4642\n",
       "Federal/State/Local/VA    4.357   12455\n",
       "Managed Care, Unspecified 4.403   22998\n",
       "Medicaid                  5.251  731012\n",
       "Medicare                  6.605  883250\n",
       "Miscellaneous/Other       5.617   29097\n",
       "Private Health Insurance  4.294  334527\n",
       "Self-Pay                  4.347   47087\n",
       "Unknown                   5.784    6280"
      ]
     },
     "execution_count": 49,
     "metadata": {},
     "output_type": "execute_result"
    }
   ],
   "source": [
    "df.groupby('Payment_Typology_1')['Length_of_Stay'].agg({'avg':'mean','cnt':'count'})"
   ]
  },
  {
   "cell_type": "markdown",
   "metadata": {},
   "source": [
    "Payment_Typology didn't seem to very useful to the avg LOS so we just using Payment_Typology_1 for now , instead of the Typology_2 and Typology_3."
   ]
  },
  {
   "cell_type": "code",
   "execution_count": 50,
   "metadata": {},
   "outputs": [
    {
     "data": {
      "text/plain": [
       "count   2346931.000\n",
       "mean        326.564\n",
       "std        1000.335\n",
       "min           0.000\n",
       "25%           0.000\n",
       "50%           0.000\n",
       "75%           0.000\n",
       "max        9900.000\n",
       "Name: Birth_Weight, dtype: float64"
      ]
     },
     "execution_count": 50,
     "metadata": {},
     "output_type": "execute_result"
    }
   ],
   "source": [
    "df.Birth_Weight.describe()"
   ]
  },
  {
   "cell_type": "code",
   "execution_count": 51,
   "metadata": {},
   "outputs": [
    {
     "data": {
      "text/plain": [
       "Not applicable   0.900\n",
       "Mid              0.091\n",
       "Low              0.007\n",
       "High             0.001\n",
       "Name: Birth_Weight_Group, dtype: float64"
      ]
     },
     "execution_count": 51,
     "metadata": {},
     "output_type": "execute_result"
    }
   ],
   "source": [
    "def birth_weight_group(x):\n",
    "    if x == 0:\n",
    "        return 'Not applicable'\n",
    "    elif x < 2500:\n",
    "        return 'Low'\n",
    "    elif (x >= 2500) & (x <= 4500):\n",
    "        return 'Mid'\n",
    "    else:\n",
    "        return 'High'\n",
    "    \n",
    "df['Birth_Weight_Group'] = df['Birth_Weight'].apply(birth_weight_group)\n",
    "df['Birth_Weight_Group'].value_counts(normalize=True)"
   ]
  },
  {
   "cell_type": "code",
   "execution_count": 52,
   "metadata": {},
   "outputs": [],
   "source": [
    "'''majority of value is missing，data leakage (meaning the information is not avilable when predicting the unseen events)，\n",
    "duplicate info'''\n",
    "\n",
    "dropcols = ['Operating_Certificate_Number','Other_Provider_License_Number','Patient_Disposition','Birth_Weight',\n",
    "            'Total_Charges','Total_Costs','Ethnicity','Race', 'Facility_Id','Facility_Name','Discharge_Year',\n",
    "            'Zip_Code__3_digits','CCS_Diagnosis_Code', 'CCS_Diagnosis_Description','CCS_Procedure_Code', 'CCS_Procedure_Description', \n",
    "            'APR_DRG_Code','APR_DRG_Description','APR_MDC_Description','APR_Severity_of_Illness_Description','Abortion_Edit_Indicator',\n",
    "            'Payment_Typology_2', 'Payment_Typology_3', 'Attending_Provider_License_Number','Operating_Provider_License_Number', 'Other_Provider_License_Number','outliers']\n"
   ]
  },
  {
   "cell_type": "code",
   "execution_count": 53,
   "metadata": {},
   "outputs": [],
   "source": [
    "df_train = df.drop(df[(df.outliers ==1)].index)"
   ]
  },
  {
   "cell_type": "code",
   "execution_count": 54,
   "metadata": {},
   "outputs": [],
   "source": [
    "df_train =df_train.drop(dropcols, axis=1)"
   ]
  },
  {
   "cell_type": "code",
   "execution_count": 55,
   "metadata": {},
   "outputs": [
    {
     "data": {
      "text/plain": [
       "Health_Service_Area                 2906\n",
       "Hospital_County                     2906\n",
       "Age_Group                              0\n",
       "Gender                                 0\n",
       "Length_of_Stay                         0\n",
       "Type_of_Admission                      0\n",
       "APR_MDC_Code                           0\n",
       "APR_Severity_of_Illness_Code           0\n",
       "APR_Risk_of_Mortality                107\n",
       "APR_Medical_Surgical_Description       0\n",
       "Payment_Typology_1                     0\n",
       "Emergency_Department_Indicator         0\n",
       "top_facility_ind                       0\n",
       "observational_status                   0\n",
       "ethnicity_combine                      0\n",
       "CCS_Diagnosis_Group                    0\n",
       "CCS_Procedure_Group                    0\n",
       "Birth_Weight_Group                     0\n",
       "dtype: int64"
      ]
     },
     "execution_count": 55,
     "metadata": {},
     "output_type": "execute_result"
    }
   ],
   "source": [
    "df_train.isnull().sum()"
   ]
  },
  {
   "cell_type": "code",
   "execution_count": 56,
   "metadata": {},
   "outputs": [
    {
     "data": {
      "text/plain": [
       "(2335611, 18)"
      ]
     },
     "execution_count": 56,
     "metadata": {},
     "output_type": "execute_result"
    }
   ],
   "source": [
    "df_train.shape"
   ]
  },
  {
   "cell_type": "code",
   "execution_count": 57,
   "metadata": {},
   "outputs": [
    {
     "data": {
      "text/plain": [
       "Index(['Health_Service_Area', 'Hospital_County', 'Age_Group', 'Gender',\n",
       "       'Length_of_Stay', 'Type_of_Admission', 'APR_MDC_Code',\n",
       "       'APR_Severity_of_Illness_Code', 'APR_Risk_of_Mortality',\n",
       "       'APR_Medical_Surgical_Description', 'Payment_Typology_1',\n",
       "       'Emergency_Department_Indicator', 'top_facility_ind',\n",
       "       'observational_status', 'ethnicity_combine', 'CCS_Diagnosis_Group',\n",
       "       'CCS_Procedure_Group', 'Birth_Weight_Group'],\n",
       "      dtype='object')"
      ]
     },
     "execution_count": 57,
     "metadata": {},
     "output_type": "execute_result"
    }
   ],
   "source": [
    "df_train.columns"
   ]
  },
  {
   "cell_type": "markdown",
   "metadata": {},
   "source": [
    "## Predictive Model"
   ]
  },
  {
   "cell_type": "code",
   "execution_count": 58,
   "metadata": {},
   "outputs": [],
   "source": [
    "import h2o\n",
    "from h2o.frame import H2OFrame\n",
    "from h2o.estimators.random_forest import H2ORandomForestEstimator\n",
    "from h2o.grid.grid_search import H2OGridSearch\n",
    "from h2o.estimators.glm import H2OGeneralizedLinearEstimator"
   ]
  },
  {
   "cell_type": "code",
   "execution_count": 59,
   "metadata": {},
   "outputs": [
    {
     "name": "stdout",
     "output_type": "stream",
     "text": [
      "Checking whether there is an H2O instance running at http://localhost:54321..... not found.\n",
      "Attempting to start a local H2O server...\n",
      "  Java Version: java version \"10\" 2018-03-20; Java(TM) SE Runtime Environment 18.3 (build 10+46); Java HotSpot(TM) 64-Bit Server VM 18.3 (build 10+46, mixed mode)\n",
      "  Starting server from /Users/yurungu/anaconda2/envs/py36/lib/python3.6/site-packages/h2o/backend/bin/h2o.jar\n",
      "  Ice root: /var/folders/8v/j2hnzwgd0bddzdkt7kp4njd80000gn/T/tmploif_8dm\n",
      "  JVM stdout: /var/folders/8v/j2hnzwgd0bddzdkt7kp4njd80000gn/T/tmploif_8dm/h2o_yurungu_started_from_python.out\n",
      "  JVM stderr: /var/folders/8v/j2hnzwgd0bddzdkt7kp4njd80000gn/T/tmploif_8dm/h2o_yurungu_started_from_python.err\n",
      "  Server is running at http://127.0.0.1:54321\n",
      "Connecting to H2O server at http://127.0.0.1:54321... successful.\n"
     ]
    },
    {
     "data": {
      "text/html": [
       "<div style=\"overflow:auto\"><table style=\"width:50%\"><tr><td>H2O cluster uptime:</td>\n",
       "<td>02 secs</td></tr>\n",
       "<tr><td>H2O cluster timezone:</td>\n",
       "<td>America/New_York</td></tr>\n",
       "<tr><td>H2O data parsing timezone:</td>\n",
       "<td>UTC</td></tr>\n",
       "<tr><td>H2O cluster version:</td>\n",
       "<td>3.22.1.1</td></tr>\n",
       "<tr><td>H2O cluster version age:</td>\n",
       "<td>23 days </td></tr>\n",
       "<tr><td>H2O cluster name:</td>\n",
       "<td>H2O_from_python_yurungu_9o3sjq</td></tr>\n",
       "<tr><td>H2O cluster total nodes:</td>\n",
       "<td>1</td></tr>\n",
       "<tr><td>H2O cluster free memory:</td>\n",
       "<td>2 Gb</td></tr>\n",
       "<tr><td>H2O cluster total cores:</td>\n",
       "<td>4</td></tr>\n",
       "<tr><td>H2O cluster allowed cores:</td>\n",
       "<td>4</td></tr>\n",
       "<tr><td>H2O cluster status:</td>\n",
       "<td>accepting new members, healthy</td></tr>\n",
       "<tr><td>H2O connection url:</td>\n",
       "<td>http://127.0.0.1:54321</td></tr>\n",
       "<tr><td>H2O connection proxy:</td>\n",
       "<td>None</td></tr>\n",
       "<tr><td>H2O internal security:</td>\n",
       "<td>False</td></tr>\n",
       "<tr><td>H2O API Extensions:</td>\n",
       "<td>XGBoost, Algos, AutoML, Core V3, Core V4</td></tr>\n",
       "<tr><td>Python version:</td>\n",
       "<td>3.6.7 final</td></tr></table></div>"
      ],
      "text/plain": [
       "--------------------------  ----------------------------------------\n",
       "H2O cluster uptime:         02 secs\n",
       "H2O cluster timezone:       America/New_York\n",
       "H2O data parsing timezone:  UTC\n",
       "H2O cluster version:        3.22.1.1\n",
       "H2O cluster version age:    23 days\n",
       "H2O cluster name:           H2O_from_python_yurungu_9o3sjq\n",
       "H2O cluster total nodes:    1\n",
       "H2O cluster free memory:    2 Gb\n",
       "H2O cluster total cores:    4\n",
       "H2O cluster allowed cores:  4\n",
       "H2O cluster status:         accepting new members, healthy\n",
       "H2O connection url:         http://127.0.0.1:54321\n",
       "H2O connection proxy:\n",
       "H2O internal security:      False\n",
       "H2O API Extensions:         XGBoost, Algos, AutoML, Core V3, Core V4\n",
       "Python version:             3.6.7 final\n",
       "--------------------------  ----------------------------------------"
      ]
     },
     "metadata": {},
     "output_type": "display_data"
    }
   ],
   "source": [
    "# Initialize H2O cluster\n",
    "h2o.init()\n",
    "h2o.remove_all()"
   ]
  },
  {
   "cell_type": "code",
   "execution_count": 60,
   "metadata": {},
   "outputs": [
    {
     "name": "stdout",
     "output_type": "stream",
     "text": [
      "Parse progress: |█████████████████████████████████████████████████████████| 100%\n"
     ]
    }
   ],
   "source": [
    "# Transform to H2O Frame, \n",
    "h2o_df = H2OFrame(df_train)"
   ]
  },
  {
   "cell_type": "code",
   "execution_count": 61,
   "metadata": {},
   "outputs": [],
   "source": [
    "target = 'Length_of_Stay'\n",
    "feature = [x for x in h2o_df.columns if x not in target]"
   ]
  },
  {
   "cell_type": "code",
   "execution_count": 62,
   "metadata": {},
   "outputs": [
    {
     "data": {
      "text/plain": [
       "['Health_Service_Area',\n",
       " 'Hospital_County',\n",
       " 'Age_Group',\n",
       " 'Gender',\n",
       " 'Type_of_Admission',\n",
       " 'APR_MDC_Code',\n",
       " 'APR_Severity_of_Illness_Code',\n",
       " 'APR_Risk_of_Mortality',\n",
       " 'APR_Medical_Surgical_Description',\n",
       " 'Payment_Typology_1',\n",
       " 'Emergency_Department_Indicator',\n",
       " 'top_facility_ind',\n",
       " 'observational_status',\n",
       " 'ethnicity_combine',\n",
       " 'CCS_Diagnosis_Group',\n",
       " 'CCS_Procedure_Group',\n",
       " 'Birth_Weight_Group']"
      ]
     },
     "execution_count": 62,
     "metadata": {},
     "output_type": "execute_result"
    }
   ],
   "source": [
    "feature"
   ]
  },
  {
   "cell_type": "code",
   "execution_count": 63,
   "metadata": {},
   "outputs": [],
   "source": [
    "for x in feature : \n",
    "    h2o_df[x]=h2o_df[x].asfactor()"
   ]
  },
  {
   "cell_type": "code",
   "execution_count": 64,
   "metadata": {},
   "outputs": [
    {
     "data": {
      "text/html": [
       "<table>\n",
       "<thead>\n",
       "<tr><th>       </th><th>Health_Service_Area  </th><th>Hospital_County  </th><th>Age_Group  </th><th>Gender  </th><th>Length_of_Stay   </th><th>Type_of_Admission  </th><th>APR_MDC_Code  </th><th>APR_Severity_of_Illness_Code  </th><th>APR_Risk_of_Mortality  </th><th>APR_Medical_Surgical_Description  </th><th>Payment_Typology_1      </th><th>Emergency_Department_Indicator  </th><th>top_facility_ind  </th><th>observational_status  </th><th>ethnicity_combine  </th><th>CCS_Diagnosis_Group  </th><th>CCS_Procedure_Group  </th><th>Birth_Weight_Group  </th></tr>\n",
       "</thead>\n",
       "<tbody>\n",
       "<tr><td>type   </td><td>enum                 </td><td>enum             </td><td>enum       </td><td>enum    </td><td>int              </td><td>enum               </td><td>enum          </td><td>enum                          </td><td>enum                   </td><td>enum                              </td><td>enum                    </td><td>enum                            </td><td>enum              </td><td>enum                  </td><td>enum               </td><td>enum                 </td><td>enum                 </td><td>enum                </td></tr>\n",
       "<tr><td>mins   </td><td>                     </td><td>                 </td><td>           </td><td>        </td><td>1.0              </td><td>                   </td><td>              </td><td>                              </td><td>                       </td><td>                                  </td><td>                        </td><td>                                </td><td>                  </td><td>                      </td><td>                   </td><td>                     </td><td>                     </td><td>                    </td></tr>\n",
       "<tr><td>mean   </td><td>                     </td><td>                 </td><td>           </td><td>        </td><td>5.109251925941436</td><td>                   </td><td>              </td><td>                              </td><td>                       </td><td>                                  </td><td>                        </td><td>                                </td><td>                  </td><td>                      </td><td>                   </td><td>                     </td><td>                     </td><td>                    </td></tr>\n",
       "<tr><td>maxs   </td><td>                     </td><td>                 </td><td>           </td><td>        </td><td>53.0             </td><td>                   </td><td>              </td><td>                              </td><td>                       </td><td>                                  </td><td>                        </td><td>                                </td><td>                  </td><td>                      </td><td>                   </td><td>                     </td><td>                     </td><td>                    </td></tr>\n",
       "<tr><td>sigma  </td><td>                     </td><td>                 </td><td>           </td><td>        </td><td>5.85881708891831 </td><td>                   </td><td>              </td><td>                              </td><td>                       </td><td>                                  </td><td>                        </td><td>                                </td><td>                  </td><td>                      </td><td>                   </td><td>                     </td><td>                     </td><td>                    </td></tr>\n",
       "<tr><td>zeros  </td><td>                     </td><td>                 </td><td>           </td><td>        </td><td>0                </td><td>                   </td><td>              </td><td>                              </td><td>                       </td><td>                                  </td><td>                        </td><td>                                </td><td>                  </td><td>                      </td><td>                   </td><td>                     </td><td>                     </td><td>                    </td></tr>\n",
       "<tr><td>missing</td><td>0                    </td><td>0                </td><td>0          </td><td>0       </td><td>0                </td><td>0                  </td><td>0             </td><td>0                             </td><td>0                      </td><td>0                                 </td><td>0                       </td><td>0                               </td><td>0                 </td><td>0                     </td><td>0                  </td><td>0                    </td><td>0                    </td><td>0                   </td></tr>\n",
       "<tr><td>0      </td><td>Western NY           </td><td>Allegany         </td><td>70 or Older</td><td>F       </td><td>4.0              </td><td>Urgent             </td><td>4             </td><td>2                             </td><td>Minor                  </td><td>Medical                           </td><td>Medicare                </td><td>Y                               </td><td>0                 </td><td>1                     </td><td>White              </td><td>8                    </td><td>0                    </td><td>Not applicable      </td></tr>\n",
       "<tr><td>1      </td><td>Western NY           </td><td>Allegany         </td><td>70 or Older</td><td>F       </td><td>4.0              </td><td>Elective           </td><td>10            </td><td>2                             </td><td>Moderate               </td><td>Medical                           </td><td>Medicare                </td><td>Y                               </td><td>0                 </td><td>1                     </td><td>White              </td><td>3                    </td><td>0                    </td><td>Not applicable      </td></tr>\n",
       "<tr><td>2      </td><td>Western NY           </td><td>Allegany         </td><td>70 or Older</td><td>F       </td><td>4.0              </td><td>Urgent             </td><td>4             </td><td>1                             </td><td>Minor                  </td><td>Medical                           </td><td>Medicare                </td><td>Y                               </td><td>0                 </td><td>0                     </td><td>White              </td><td>8                    </td><td>16                   </td><td>Not applicable      </td></tr>\n",
       "<tr><td>3      </td><td>Western NY           </td><td>Allegany         </td><td>50 to 69   </td><td>F       </td><td>2.0              </td><td>Elective           </td><td>6             </td><td>2                             </td><td>Minor                  </td><td>Medical                           </td><td>Medicare                </td><td>Y                               </td><td>0                 </td><td>1                     </td><td>White              </td><td>3                    </td><td>0                    </td><td>Not applicable      </td></tr>\n",
       "<tr><td>4      </td><td>Western NY           </td><td>Allegany         </td><td>70 or Older</td><td>M       </td><td>2.0              </td><td>Elective           </td><td>4             </td><td>1                             </td><td>Moderate               </td><td>Medical                           </td><td>Medicare                </td><td>Y                               </td><td>0                 </td><td>1                     </td><td>White              </td><td>8                    </td><td>0                    </td><td>Not applicable      </td></tr>\n",
       "<tr><td>5      </td><td>Western NY           </td><td>Allegany         </td><td>70 or Older</td><td>M       </td><td>3.0              </td><td>Urgent             </td><td>4             </td><td>1                             </td><td>Moderate               </td><td>Medical                           </td><td>Private Health Insurance</td><td>Y                               </td><td>0                 </td><td>0                     </td><td>Hispanic           </td><td>8                    </td><td>16                   </td><td>Not applicable      </td></tr>\n",
       "<tr><td>6      </td><td>Western NY           </td><td>Allegany         </td><td>70 or Older</td><td>F       </td><td>4.0              </td><td>Urgent             </td><td>4             </td><td>1                             </td><td>Moderate               </td><td>Medical                           </td><td>Medicare                </td><td>Y                               </td><td>0                 </td><td>1                     </td><td>White              </td><td>8                    </td><td>0                    </td><td>Not applicable      </td></tr>\n",
       "<tr><td>7      </td><td>Western NY           </td><td>Allegany         </td><td>70 or Older</td><td>F       </td><td>4.0              </td><td>Elective           </td><td>6             </td><td>2                             </td><td>Moderate               </td><td>Medical                           </td><td>Medicare                </td><td>N                               </td><td>0                 </td><td>1                     </td><td>White              </td><td>9                    </td><td>0                    </td><td>Not applicable      </td></tr>\n",
       "<tr><td>8      </td><td>Western NY           </td><td>Allegany         </td><td>50 to 69   </td><td>F       </td><td>3.0              </td><td>Urgent             </td><td>4             </td><td>2                             </td><td>Minor                  </td><td>Medical                           </td><td>Medicaid                </td><td>Y                               </td><td>0                 </td><td>1                     </td><td>White              </td><td>8                    </td><td>0                    </td><td>Not applicable      </td></tr>\n",
       "<tr><td>9      </td><td>Western NY           </td><td>Allegany         </td><td>70 or Older</td><td>F       </td><td>4.0              </td><td>Elective           </td><td>4             </td><td>2                             </td><td>Minor                  </td><td>Medical                           </td><td>Medicare                </td><td>Y                               </td><td>0                 </td><td>1                     </td><td>White              </td><td>8                    </td><td>0                    </td><td>Not applicable      </td></tr>\n",
       "</tbody>\n",
       "</table>"
      ]
     },
     "metadata": {},
     "output_type": "display_data"
    }
   ],
   "source": [
    "h2o_df.summary()"
   ]
  },
  {
   "cell_type": "code",
   "execution_count": 65,
   "metadata": {},
   "outputs": [],
   "source": [
    "#Split the data into Train/Test/Validation with Train having 70% and test and validation 15% each\n",
    "\n",
    "train, valid, test = h2o_df.split_frame([0.75, 0.15], seed=1234)\n"
   ]
  },
  {
   "cell_type": "markdown",
   "metadata": {},
   "source": [
    "<a id='1'></a>\n",
    "*Which ML model would you use to tackle that problem?*\n",
    "\n",
    "I used Random Forest regression model in H2O to predict the length of stay of inpatients.There're a few reasons, such as tree-based model is generally fridenly to categorical variables (and we have a lot of categorical variables in the training set) ; also some features are correlated and RF is generally okay with correlated features becausue of resampling methods.In addition,Random Forest has relatively low likelihood to overfit. \n",
    "\n",
    "(Note I used H2O here, considering the size of dataset is pretty large (2.5 million records). It is a open source, distributed in-memory machine learning platform with scalability. Of course I can use scikit-learn packages as well.)"
   ]
  },
  {
   "cell_type": "code",
   "execution_count": 66,
   "metadata": {},
   "outputs": [
    {
     "name": "stdout",
     "output_type": "stream",
     "text": [
      "drf Model Build progress: |███████████████████████████████████████████████| 100%\n",
      "training time: 8.773644169171652\n"
     ]
    }
   ],
   "source": [
    "# 1. Build a baseline model by using random forest  \n",
    "start = time.time() \n",
    "model = H2ORandomForestEstimator(balance_classes=True, ntrees=50, max_depth=10, nfolds=3,\n",
    "                                 mtries=-1, seed=189, score_each_iteration=True)\n",
    "model.train(x=feature, y=target, training_frame=train)\n",
    "\n",
    "end = time.time()\n",
    "print ('training time:', (end - start)/60)"
   ]
  },
  {
   "cell_type": "code",
   "execution_count": 67,
   "metadata": {},
   "outputs": [
    {
     "name": "stdout",
     "output_type": "stream",
     "text": [
      "4.556476286753517\n",
      "0.38503706614043753\n"
     ]
    }
   ],
   "source": [
    "print(model.model_performance(test_data=test).rmse())\n",
    "print(model.model_performance(test_data=test).r2())"
   ]
  },
  {
   "cell_type": "markdown",
   "metadata": {},
   "source": [
    "<a id='4'></a>\n",
    "*What is your model’s performance?*\n",
    "\n",
    "My prelimianry model shows 4.58 as RMSE , 2.60 as MAE and R squre score is about 0.38 (showing how well the model fits a set of observations). Note the reason why RMSE is worse is because MAE directly takes the average of offsets whereas the RMSE penalizes the higher difference more than MAE due to the distribution of the LOS. This means there is potential to use readily available SPARCS dataset to predict inpatient LOS. THE approach may be used to automate and support recurring predictions aimed at reducing cost, prioritizing capacity and avoiding adverse patient events. Here, I've prepared a snippet of tuning parameters with grid search as an example of how I would explore after the baseline model above as one of the next steps.\n"
   ]
  },
  {
   "cell_type": "code",
   "execution_count": null,
   "metadata": {},
   "outputs": [],
   "source": [
    "#%load RF_GridSearch.py"
   ]
  },
  {
   "cell_type": "markdown",
   "metadata": {},
   "source": [
    "<a id='5'></a>\n",
    "*For which cases does your model perform poorly? Why?*\n",
    "\n",
    "When I explored grid search above, the innital results showed overfiting occured as the traing metric is good but validation getting larger error and this trend became more obvious when  more iternations applied. So this means the model shows low bias but high variance and the model probably doesn't generalize well from our training data to unseen data."
   ]
  },
  {
   "cell_type": "code",
   "execution_count": 69,
   "metadata": {},
   "outputs": [
    {
     "data": {
      "image/png": "[encoded data removed]",
      "text/plain": [
       "<Figure size 576x360 with 1 Axes>"
      ]
     },
     "metadata": {
      "needs_background": "light"
     },
     "output_type": "display_data"
    }
   ],
   "source": [
    "# Feature importance\n",
    "importance = model.varimp(use_pandas=True)\n",
    "\n",
    "fig, ax = plt.subplots(figsize=(8, 5))\n",
    "sns.barplot(x='scaled_importance', y='variable', data=importance)\n",
    "plt.tight_layout()\n",
    "plt.show()"
   ]
  },
  {
   "cell_type": "markdown",
   "metadata": {},
   "source": [
    "<a id='3'></a>\n",
    "*Which feature(s) have more predictive power for the given task? Why?*\n",
    "\n",
    "Looking at feature importance plot, it looks like clinical factors including risk level features (e.g. severity of illness, risk of mortality) and Diagnostic related (condition and treatment) inputs have more predictive power. Other factors, including gender, facility, and ethnicity, seem to be less important to predict the LOS.\n",
    "\n",
    "Below, I also created a deep dive of top important features by using partial dependence plots, which show the marginal effect the features have on the predicted outcome of the model. For example, the more severe of the illness, the more importantly cause the impact of predicting the LOS. "
   ]
  },
  {
   "cell_type": "code",
   "execution_count": 70,
   "metadata": {},
   "outputs": [
    {
     "name": "stdout",
     "output_type": "stream",
     "text": [
      "PartialDependencePlot progress: |█████████████████████████████████████████| 100%\n"
     ]
    },
    {
     "data": {
      "image/png": "[encoded data removed]",
      "text/plain": [
       "<Figure size 576x1080 with 3 Axes>"
      ]
     },
     "metadata": {
      "needs_background": "light"
     },
     "output_type": "display_data"
    }
   ],
   "source": [
    "# Deep dive of top important features\n",
    "_ =model.partial_plot(train, cols=['APR_Severity_of_Illness_Code','APR_Risk_of_Mortality','APR_Medical_Surgical_Description'], figsize=(8, 15))"
   ]
  },
  {
   "cell_type": "code",
   "execution_count": null,
   "metadata": {},
   "outputs": [],
   "source": []
  },
  {
   "cell_type": "code",
   "execution_count": 72,
   "metadata": {},
   "outputs": [
    {
     "name": "stdout",
     "output_type": "stream",
     "text": [
      "H2O session _sid_8c7e closed.\n"
     ]
    }
   ],
   "source": [
    "# Shutdown h2o instance\n",
    "h2o.cluster().shutdown()"
   ]
  },
  {
   "cell_type": "markdown",
   "metadata": {},
   "source": [
    "### Implementation & Next steps"
   ]
  },
  {
   "cell_type": "markdown",
   "metadata": {},
   "source": [
    "<a id='6'></a>\n",
    "*If you had more time to work on this, how would you increase your current performance by 10%? Please explain.* \n",
    "\n",
    "As a data scientist and thinking of the projects from Phreesia propective, here're some next steps if I have more time: \n",
    "   * Infuse Domain knowledge. I would like to know the estimated financial impact of LOS opportunities so that we can use the model to build a business case with strategic recommendations. Also, having clinical experts reviews would also be helpful such as reduce LOS while keeping readmissions stable, best practice on using clinical codes when we continously enhance the features and model. \n",
    "   * Get more recent data. We are using 2015's data only currently and in order to beter prediction, it is nesssary to use more recent data. For example, we can also do some cross-time training to ensure stationary. We can also use API so that we can get data with a server API automatically, from recrruing process prospective.\n",
    "   * Acquire more different types of data . For example, more patient demographic (HHI, education, etc) and detailed medical information so that we can leverage NLP techniques on patients' EHR to get more understanding of the situation of the disease. And patient's past medical information (e.g.comorbidity) and drug data (e.g.what types of medicine this person takes, whether he/she is adherent) are helpful too.\n",
    "   * Enhance feature engineering. For example, creating interaction features , building hirachcle rule based assignment on some certian features, such as payment typology categories,   when patient have Dual eligibility of medicare and medicaid ,indicating the patients may be low-income group with disabilities. Given that the diagnoses have such a strong feature importance, it would be worth exploring whether other usage of the disease and procedure codes would bring a better prediction model. \n",
    "   * Further EDA. For example, I determine LOS out of 95.5% percentile as outlier due to the limited time but I can do some deep dive to see what the outliers could actually be handled or leveraged. If we want to bring the outliers back, we may need to apply some techniques for unbalanced data. (e.g.resampling, assigning weight, ensembles, etc).\n",
    "   * Explore different algorithms, such as GBM regression tree, ridge and LASSO regression with alpha and lambda parameter tuning. I can also tranform the target variable by using box-cox ,square, log (create a function to train the different options), compare model performance and then the best performing one. "
   ]
  },
  {
   "cell_type": "markdown",
   "metadata": {},
   "source": [
    "<a id='7'></a>\n",
    "*Propose 2 additional questions that might be answered using this dataset. How you would answer these questions? Elaborate.*\n",
    "   * Question 1: Providers want to identify at-risk patients to reduce readmission rate and then proactively engage patients such as providing care management programs after discharge, coordinating with post-acute care providers and patients’ PCP. In order to early identify which inpatients have higher risk after discharges, we can use the dataset to predict a classification problem (patient disposition). For people who go to skilled nursing facility (SNF) and extended care facility (ECF) beds in the community after the inpatients, we can also communicate to the partnered SNF or ECF facilities.\n",
    "   * Question 2: If a provider wants to prioritize the most profitable inpatient events due to the resource availability. We can  use the dataset to run a regression model (Total charges - total costs) to project the profit of the next inpatient episode."
   ]
  },
  {
   "cell_type": "markdown",
   "metadata": {},
   "source": []
  }
 ],
 "metadata": {
  "kernelspec": {
   "display_name": "Python 3",
   "language": "python",
   "name": "python3"
  },
  "language_info": {
   "codemirror_mode": {
    "name": "ipython",
    "version": 3
   },
   "file_extension": ".py",
   "mimetype": "text/x-python",
   "name": "python",
   "nbconvert_exporter": "python",
   "pygments_lexer": "ipython3",
   "version": "3.6.7"
  }
 },
 "nbformat": 4,
 "nbformat_minor": 2
}
