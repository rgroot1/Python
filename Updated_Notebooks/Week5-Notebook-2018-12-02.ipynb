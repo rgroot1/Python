{
 "cells": [
  {
   "cell_type": "markdown",
   "metadata": {},
   "source": [
    "(CONFIDENTIAL) INTERNAL USE ONLY, NOT FOR EXTERNAL DISTRIBUTION"
   ]
  },
  {
   "cell_type": "markdown",
   "metadata": {},
   "source": [
    "<h1 id=\"tocheading\">Table of Contents</h1>\n",
    "<div id=\"toc\"></div>"
   ]
  },
  {
   "cell_type": "code",
   "execution_count": 1,
   "metadata": {},
   "outputs": [
    {
     "data": {
      "application/javascript": [
       "$.getScript('https://kmahelona.github.io/ipython_notebook_goodies/ipython_notebook_toc.js')"
      ],
      "text/plain": [
       "<IPython.core.display.Javascript object>"
      ]
     },
     "metadata": {},
     "output_type": "display_data"
    }
   ],
   "source": [
    "%%javascript\n",
    "$.getScript('https://kmahelona.github.io/ipython_notebook_goodies/ipython_notebook_toc.js')"
   ]
  },
  {
   "cell_type": "code",
   "execution_count": 2,
   "metadata": {
    "collapsed": true
   },
   "outputs": [],
   "source": [
    "import numpy as np\n",
    "import pandas as pd\n",
    "import matplotlib.pyplot as plt\n",
    "%matplotlib inline"
   ]
  },
  {
   "cell_type": "markdown",
   "metadata": {},
   "source": [
    "# Three level of visualizatoin"
   ]
  },
  {
   "cell_type": "code",
   "execution_count": null,
   "metadata": {
    "collapsed": true
   },
   "outputs": [],
   "source": []
  },
  {
   "cell_type": "code",
   "execution_count": null,
   "metadata": {
    "collapsed": true
   },
   "outputs": [],
   "source": [
    "# level 1. fast visualization, for analytics (minimalist, fast)"
   ]
  },
  {
   "cell_type": "code",
   "execution_count": null,
   "metadata": {
    "collapsed": true
   },
   "outputs": [],
   "source": [
    "# level 2. hybrid version of 1 & 3"
   ]
  },
  {
   "cell_type": "code",
   "execution_count": null,
   "metadata": {
    "collapsed": true
   },
   "outputs": [],
   "source": [
    "# level 3. fine visualization, for presentation (refined, presentable)"
   ]
  },
  {
   "cell_type": "markdown",
   "metadata": {},
   "source": [
    "# Matplotlib"
   ]
  },
  {
   "cell_type": "code",
   "execution_count": null,
   "metadata": {
    "collapsed": true
   },
   "outputs": [],
   "source": [
    "# pip install matplotlib"
   ]
  },
  {
   "cell_type": "code",
   "execution_count": null,
   "metadata": {
    "collapsed": true
   },
   "outputs": [],
   "source": [
    "# Backend Layer vs. Artist Layer vs. Scripting Layer\n",
    "\n",
    "# Backend Layer (inline, notebook)\n",
    "\n",
    "# Artist Layer (Figure, Axes, Axis, etc)\n",
    "\n",
    "# Scripting Layer (pyplot)"
   ]
  },
  {
   "cell_type": "code",
   "execution_count": 3,
   "metadata": {
    "collapsed": true
   },
   "outputs": [],
   "source": [
    "%matplotlib notebook"
   ]
  },
  {
   "cell_type": "code",
   "execution_count": 4,
   "metadata": {},
   "outputs": [
    {
     "data": {
      "application/javascript": [
       "/* Put everything inside the global mpl namespace */\n",
       "window.mpl = {};\n",
       "\n",
       "\n",
       "mpl.get_websocket_type = function() {\n",
       "    if (typeof(WebSocket) !== 'undefined') {\n",
       "        return WebSocket;\n",
       "    } else if (typeof(MozWebSocket) !== 'undefined') {\n",
       "        return MozWebSocket;\n",
       "    } else {\n",
       "        alert('Your browser does not have WebSocket support.' +\n",
       "              'Please try Chrome, Safari or Firefox ≥ 6. ' +\n",
       "              'Firefox 4 and 5 are also supported but you ' +\n",
       "              'have to enable WebSockets in about:config.');\n",
       "    };\n",
       "}\n",
       "\n",
       "mpl.figure = function(figure_id, websocket, ondownload, parent_element) {\n",
       "    this.id = figure_id;\n",
       "\n",
       "    this.ws = websocket;\n",
       "\n",
       "    this.supports_binary = (this.ws.binaryType != undefined);\n",
       "\n",
       "    if (!this.supports_binary) {\n",
       "        var warnings = document.getElementById(\"mpl-warnings\");\n",
       "        if (warnings) {\n",
       "            warnings.style.display = 'block';\n",
       "            warnings.textContent = (\n",
       "                \"This browser does not support binary websocket messages. \" +\n",
       "                    \"Performance may be slow.\");\n",
       "        }\n",
       "    }\n",
       "\n",
       "    this.imageObj = new Image();\n",
       "\n",
       "    this.context = undefined;\n",
       "    this.message = undefined;\n",
       "    this.canvas = undefined;\n",
       "    this.rubberband_canvas = undefined;\n",
       "    this.rubberband_context = undefined;\n",
       "    this.format_dropdown = undefined;\n",
       "\n",
       "    this.image_mode = 'full';\n",
       "\n",
       "    this.root = $('<div/>');\n",
       "    this._root_extra_style(this.root)\n",
       "    this.root.attr('style', 'display: inline-block');\n",
       "\n",
       "    $(parent_element).append(this.root);\n",
       "\n",
       "    this._init_header(this);\n",
       "    this._init_canvas(this);\n",
       "    this._init_toolbar(this);\n",
       "\n",
       "    var fig = this;\n",
       "\n",
       "    this.waiting = false;\n",
       "\n",
       "    this.ws.onopen =  function () {\n",
       "            fig.send_message(\"supports_binary\", {value: fig.supports_binary});\n",
       "            fig.send_message(\"send_image_mode\", {});\n",
       "            if (mpl.ratio != 1) {\n",
       "                fig.send_message(\"set_dpi_ratio\", {'dpi_ratio': mpl.ratio});\n",
       "            }\n",
       "            fig.send_message(\"refresh\", {});\n",
       "        }\n",
       "\n",
       "    this.imageObj.onload = function() {\n",
       "            if (fig.image_mode == 'full') {\n",
       "                // Full images could contain transparency (where diff images\n",
       "                // almost always do), so we need to clear the canvas so that\n",
       "                // there is no ghosting.\n",
       "                fig.context.clearRect(0, 0, fig.canvas.width, fig.canvas.height);\n",
       "            }\n",
       "            fig.context.drawImage(fig.imageObj, 0, 0);\n",
       "        };\n",
       "\n",
       "    this.imageObj.onunload = function() {\n",
       "        fig.ws.close();\n",
       "    }\n",
       "\n",
       "    this.ws.onmessage = this._make_on_message_function(this);\n",
       "\n",
       "    this.ondownload = ondownload;\n",
       "}\n",
       "\n",
       "mpl.figure.prototype._init_header = function() {\n",
       "    var titlebar = $(\n",
       "        '<div class=\"ui-dialog-titlebar ui-widget-header ui-corner-all ' +\n",
       "        'ui-helper-clearfix\"/>');\n",
       "    var titletext = $(\n",
       "        '<div class=\"ui-dialog-title\" style=\"width: 100%; ' +\n",
       "        'text-align: center; padding: 3px;\"/>');\n",
       "    titlebar.append(titletext)\n",
       "    this.root.append(titlebar);\n",
       "    this.header = titletext[0];\n",
       "}\n",
       "\n",
       "\n",
       "\n",
       "mpl.figure.prototype._canvas_extra_style = function(canvas_div) {\n",
       "\n",
       "}\n",
       "\n",
       "\n",
       "mpl.figure.prototype._root_extra_style = function(canvas_div) {\n",
       "\n",
       "}\n",
       "\n",
       "mpl.figure.prototype._init_canvas = function() {\n",
       "    var fig = this;\n",
       "\n",
       "    var canvas_div = $('<div/>');\n",
       "\n",
       "    canvas_div.attr('style', 'position: relative; clear: both; outline: 0');\n",
       "\n",
       "    function canvas_keyboard_event(event) {\n",
       "        return fig.key_event(event, event['data']);\n",
       "    }\n",
       "\n",
       "    canvas_div.keydown('key_press', canvas_keyboard_event);\n",
       "    canvas_div.keyup('key_release', canvas_keyboard_event);\n",
       "    this.canvas_div = canvas_div\n",
       "    this._canvas_extra_style(canvas_div)\n",
       "    this.root.append(canvas_div);\n",
       "\n",
       "    var canvas = $('<canvas/>');\n",
       "    canvas.addClass('mpl-canvas');\n",
       "    canvas.attr('style', \"left: 0; top: 0; z-index: 0; outline: 0\")\n",
       "\n",
       "    this.canvas = canvas[0];\n",
       "    this.context = canvas[0].getContext(\"2d\");\n",
       "\n",
       "    var backingStore = this.context.backingStorePixelRatio ||\n",
       "\tthis.context.webkitBackingStorePixelRatio ||\n",
       "\tthis.context.mozBackingStorePixelRatio ||\n",
       "\tthis.context.msBackingStorePixelRatio ||\n",
       "\tthis.context.oBackingStorePixelRatio ||\n",
       "\tthis.context.backingStorePixelRatio || 1;\n",
       "\n",
       "    mpl.ratio = (window.devicePixelRatio || 1) / backingStore;\n",
       "\n",
       "    var rubberband = $('<canvas/>');\n",
       "    rubberband.attr('style', \"position: absolute; left: 0; top: 0; z-index: 1;\")\n",
       "\n",
       "    var pass_mouse_events = true;\n",
       "\n",
       "    canvas_div.resizable({\n",
       "        start: function(event, ui) {\n",
       "            pass_mouse_events = false;\n",
       "        },\n",
       "        resize: function(event, ui) {\n",
       "            fig.request_resize(ui.size.width, ui.size.height);\n",
       "        },\n",
       "        stop: function(event, ui) {\n",
       "            pass_mouse_events = true;\n",
       "            fig.request_resize(ui.size.width, ui.size.height);\n",
       "        },\n",
       "    });\n",
       "\n",
       "    function mouse_event_fn(event) {\n",
       "        if (pass_mouse_events)\n",
       "            return fig.mouse_event(event, event['data']);\n",
       "    }\n",
       "\n",
       "    rubberband.mousedown('button_press', mouse_event_fn);\n",
       "    rubberband.mouseup('button_release', mouse_event_fn);\n",
       "    // Throttle sequential mouse events to 1 every 20ms.\n",
       "    rubberband.mousemove('motion_notify', mouse_event_fn);\n",
       "\n",
       "    rubberband.mouseenter('figure_enter', mouse_event_fn);\n",
       "    rubberband.mouseleave('figure_leave', mouse_event_fn);\n",
       "\n",
       "    canvas_div.on(\"wheel\", function (event) {\n",
       "        event = event.originalEvent;\n",
       "        event['data'] = 'scroll'\n",
       "        if (event.deltaY < 0) {\n",
       "            event.step = 1;\n",
       "        } else {\n",
       "            event.step = -1;\n",
       "        }\n",
       "        mouse_event_fn(event);\n",
       "    });\n",
       "\n",
       "    canvas_div.append(canvas);\n",
       "    canvas_div.append(rubberband);\n",
       "\n",
       "    this.rubberband = rubberband;\n",
       "    this.rubberband_canvas = rubberband[0];\n",
       "    this.rubberband_context = rubberband[0].getContext(\"2d\");\n",
       "    this.rubberband_context.strokeStyle = \"#000000\";\n",
       "\n",
       "    this._resize_canvas = function(width, height) {\n",
       "        // Keep the size of the canvas, canvas container, and rubber band\n",
       "        // canvas in synch.\n",
       "        canvas_div.css('width', width)\n",
       "        canvas_div.css('height', height)\n",
       "\n",
       "        canvas.attr('width', width * mpl.ratio);\n",
       "        canvas.attr('height', height * mpl.ratio);\n",
       "        canvas.attr('style', 'width: ' + width + 'px; height: ' + height + 'px;');\n",
       "\n",
       "        rubberband.attr('width', width);\n",
       "        rubberband.attr('height', height);\n",
       "    }\n",
       "\n",
       "    // Set the figure to an initial 600x600px, this will subsequently be updated\n",
       "    // upon first draw.\n",
       "    this._resize_canvas(600, 600);\n",
       "\n",
       "    // Disable right mouse context menu.\n",
       "    $(this.rubberband_canvas).bind(\"contextmenu\",function(e){\n",
       "        return false;\n",
       "    });\n",
       "\n",
       "    function set_focus () {\n",
       "        canvas.focus();\n",
       "        canvas_div.focus();\n",
       "    }\n",
       "\n",
       "    window.setTimeout(set_focus, 100);\n",
       "}\n",
       "\n",
       "mpl.figure.prototype._init_toolbar = function() {\n",
       "    var fig = this;\n",
       "\n",
       "    var nav_element = $('<div/>')\n",
       "    nav_element.attr('style', 'width: 100%');\n",
       "    this.root.append(nav_element);\n",
       "\n",
       "    // Define a callback function for later on.\n",
       "    function toolbar_event(event) {\n",
       "        return fig.toolbar_button_onclick(event['data']);\n",
       "    }\n",
       "    function toolbar_mouse_event(event) {\n",
       "        return fig.toolbar_button_onmouseover(event['data']);\n",
       "    }\n",
       "\n",
       "    for(var toolbar_ind in mpl.toolbar_items) {\n",
       "        var name = mpl.toolbar_items[toolbar_ind][0];\n",
       "        var tooltip = mpl.toolbar_items[toolbar_ind][1];\n",
       "        var image = mpl.toolbar_items[toolbar_ind][2];\n",
       "        var method_name = mpl.toolbar_items[toolbar_ind][3];\n",
       "\n",
       "        if (!name) {\n",
       "            // put a spacer in here.\n",
       "            continue;\n",
       "        }\n",
       "        var button = $('<button/>');\n",
       "        button.addClass('ui-button ui-widget ui-state-default ui-corner-all ' +\n",
       "                        'ui-button-icon-only');\n",
       "        button.attr('role', 'button');\n",
       "        button.attr('aria-disabled', 'false');\n",
       "        button.click(method_name, toolbar_event);\n",
       "        button.mouseover(tooltip, toolbar_mouse_event);\n",
       "\n",
       "        var icon_img = $('<span/>');\n",
       "        icon_img.addClass('ui-button-icon-primary ui-icon');\n",
       "        icon_img.addClass(image);\n",
       "        icon_img.addClass('ui-corner-all');\n",
       "\n",
       "        var tooltip_span = $('<span/>');\n",
       "        tooltip_span.addClass('ui-button-text');\n",
       "        tooltip_span.html(tooltip);\n",
       "\n",
       "        button.append(icon_img);\n",
       "        button.append(tooltip_span);\n",
       "\n",
       "        nav_element.append(button);\n",
       "    }\n",
       "\n",
       "    var fmt_picker_span = $('<span/>');\n",
       "\n",
       "    var fmt_picker = $('<select/>');\n",
       "    fmt_picker.addClass('mpl-toolbar-option ui-widget ui-widget-content');\n",
       "    fmt_picker_span.append(fmt_picker);\n",
       "    nav_element.append(fmt_picker_span);\n",
       "    this.format_dropdown = fmt_picker[0];\n",
       "\n",
       "    for (var ind in mpl.extensions) {\n",
       "        var fmt = mpl.extensions[ind];\n",
       "        var option = $(\n",
       "            '<option/>', {selected: fmt === mpl.default_extension}).html(fmt);\n",
       "        fmt_picker.append(option)\n",
       "    }\n",
       "\n",
       "    // Add hover states to the ui-buttons\n",
       "    $( \".ui-button\" ).hover(\n",
       "        function() { $(this).addClass(\"ui-state-hover\");},\n",
       "        function() { $(this).removeClass(\"ui-state-hover\");}\n",
       "    );\n",
       "\n",
       "    var status_bar = $('<span class=\"mpl-message\"/>');\n",
       "    nav_element.append(status_bar);\n",
       "    this.message = status_bar[0];\n",
       "}\n",
       "\n",
       "mpl.figure.prototype.request_resize = function(x_pixels, y_pixels) {\n",
       "    // Request matplotlib to resize the figure. Matplotlib will then trigger a resize in the client,\n",
       "    // which will in turn request a refresh of the image.\n",
       "    this.send_message('resize', {'width': x_pixels, 'height': y_pixels});\n",
       "}\n",
       "\n",
       "mpl.figure.prototype.send_message = function(type, properties) {\n",
       "    properties['type'] = type;\n",
       "    properties['figure_id'] = this.id;\n",
       "    this.ws.send(JSON.stringify(properties));\n",
       "}\n",
       "\n",
       "mpl.figure.prototype.send_draw_message = function() {\n",
       "    if (!this.waiting) {\n",
       "        this.waiting = true;\n",
       "        this.ws.send(JSON.stringify({type: \"draw\", figure_id: this.id}));\n",
       "    }\n",
       "}\n",
       "\n",
       "\n",
       "mpl.figure.prototype.handle_save = function(fig, msg) {\n",
       "    var format_dropdown = fig.format_dropdown;\n",
       "    var format = format_dropdown.options[format_dropdown.selectedIndex].value;\n",
       "    fig.ondownload(fig, format);\n",
       "}\n",
       "\n",
       "\n",
       "mpl.figure.prototype.handle_resize = function(fig, msg) {\n",
       "    var size = msg['size'];\n",
       "    if (size[0] != fig.canvas.width || size[1] != fig.canvas.height) {\n",
       "        fig._resize_canvas(size[0], size[1]);\n",
       "        fig.send_message(\"refresh\", {});\n",
       "    };\n",
       "}\n",
       "\n",
       "mpl.figure.prototype.handle_rubberband = function(fig, msg) {\n",
       "    var x0 = msg['x0'] / mpl.ratio;\n",
       "    var y0 = (fig.canvas.height - msg['y0']) / mpl.ratio;\n",
       "    var x1 = msg['x1'] / mpl.ratio;\n",
       "    var y1 = (fig.canvas.height - msg['y1']) / mpl.ratio;\n",
       "    x0 = Math.floor(x0) + 0.5;\n",
       "    y0 = Math.floor(y0) + 0.5;\n",
       "    x1 = Math.floor(x1) + 0.5;\n",
       "    y1 = Math.floor(y1) + 0.5;\n",
       "    var min_x = Math.min(x0, x1);\n",
       "    var min_y = Math.min(y0, y1);\n",
       "    var width = Math.abs(x1 - x0);\n",
       "    var height = Math.abs(y1 - y0);\n",
       "\n",
       "    fig.rubberband_context.clearRect(\n",
       "        0, 0, fig.canvas.width, fig.canvas.height);\n",
       "\n",
       "    fig.rubberband_context.strokeRect(min_x, min_y, width, height);\n",
       "}\n",
       "\n",
       "mpl.figure.prototype.handle_figure_label = function(fig, msg) {\n",
       "    // Updates the figure title.\n",
       "    fig.header.textContent = msg['label'];\n",
       "}\n",
       "\n",
       "mpl.figure.prototype.handle_cursor = function(fig, msg) {\n",
       "    var cursor = msg['cursor'];\n",
       "    switch(cursor)\n",
       "    {\n",
       "    case 0:\n",
       "        cursor = 'pointer';\n",
       "        break;\n",
       "    case 1:\n",
       "        cursor = 'default';\n",
       "        break;\n",
       "    case 2:\n",
       "        cursor = 'crosshair';\n",
       "        break;\n",
       "    case 3:\n",
       "        cursor = 'move';\n",
       "        break;\n",
       "    }\n",
       "    fig.rubberband_canvas.style.cursor = cursor;\n",
       "}\n",
       "\n",
       "mpl.figure.prototype.handle_message = function(fig, msg) {\n",
       "    fig.message.textContent = msg['message'];\n",
       "}\n",
       "\n",
       "mpl.figure.prototype.handle_draw = function(fig, msg) {\n",
       "    // Request the server to send over a new figure.\n",
       "    fig.send_draw_message();\n",
       "}\n",
       "\n",
       "mpl.figure.prototype.handle_image_mode = function(fig, msg) {\n",
       "    fig.image_mode = msg['mode'];\n",
       "}\n",
       "\n",
       "mpl.figure.prototype.updated_canvas_event = function() {\n",
       "    // Called whenever the canvas gets updated.\n",
       "    this.send_message(\"ack\", {});\n",
       "}\n",
       "\n",
       "// A function to construct a web socket function for onmessage handling.\n",
       "// Called in the figure constructor.\n",
       "mpl.figure.prototype._make_on_message_function = function(fig) {\n",
       "    return function socket_on_message(evt) {\n",
       "        if (evt.data instanceof Blob) {\n",
       "            /* FIXME: We get \"Resource interpreted as Image but\n",
       "             * transferred with MIME type text/plain:\" errors on\n",
       "             * Chrome.  But how to set the MIME type?  It doesn't seem\n",
       "             * to be part of the websocket stream */\n",
       "            evt.data.type = \"image/png\";\n",
       "\n",
       "            /* Free the memory for the previous frames */\n",
       "            if (fig.imageObj.src) {\n",
       "                (window.URL || window.webkitURL).revokeObjectURL(\n",
       "                    fig.imageObj.src);\n",
       "            }\n",
       "\n",
       "            fig.imageObj.src = (window.URL || window.webkitURL).createObjectURL(\n",
       "                evt.data);\n",
       "            fig.updated_canvas_event();\n",
       "            fig.waiting = false;\n",
       "            return;\n",
       "        }\n",
       "        else if (typeof evt.data === 'string' && evt.data.slice(0, 21) == \"data:image/png;base64\") {\n",
       "            fig.imageObj.src = evt.data;\n",
       "            fig.updated_canvas_event();\n",
       "            fig.waiting = false;\n",
       "            return;\n",
       "        }\n",
       "\n",
       "        var msg = JSON.parse(evt.data);\n",
       "        var msg_type = msg['type'];\n",
       "\n",
       "        // Call the  \"handle_{type}\" callback, which takes\n",
       "        // the figure and JSON message as its only arguments.\n",
       "        try {\n",
       "            var callback = fig[\"handle_\" + msg_type];\n",
       "        } catch (e) {\n",
       "            console.log(\"No handler for the '\" + msg_type + \"' message type: \", msg);\n",
       "            return;\n",
       "        }\n",
       "\n",
       "        if (callback) {\n",
       "            try {\n",
       "                // console.log(\"Handling '\" + msg_type + \"' message: \", msg);\n",
       "                callback(fig, msg);\n",
       "            } catch (e) {\n",
       "                console.log(\"Exception inside the 'handler_\" + msg_type + \"' callback:\", e, e.stack, msg);\n",
       "            }\n",
       "        }\n",
       "    };\n",
       "}\n",
       "\n",
       "// from http://stackoverflow.com/questions/1114465/getting-mouse-location-in-canvas\n",
       "mpl.findpos = function(e) {\n",
       "    //this section is from http://www.quirksmode.org/js/events_properties.html\n",
       "    var targ;\n",
       "    if (!e)\n",
       "        e = window.event;\n",
       "    if (e.target)\n",
       "        targ = e.target;\n",
       "    else if (e.srcElement)\n",
       "        targ = e.srcElement;\n",
       "    if (targ.nodeType == 3) // defeat Safari bug\n",
       "        targ = targ.parentNode;\n",
       "\n",
       "    // jQuery normalizes the pageX and pageY\n",
       "    // pageX,Y are the mouse positions relative to the document\n",
       "    // offset() returns the position of the element relative to the document\n",
       "    var x = e.pageX - $(targ).offset().left;\n",
       "    var y = e.pageY - $(targ).offset().top;\n",
       "\n",
       "    return {\"x\": x, \"y\": y};\n",
       "};\n",
       "\n",
       "/*\n",
       " * return a copy of an object with only non-object keys\n",
       " * we need this to avoid circular references\n",
       " * http://stackoverflow.com/a/24161582/3208463\n",
       " */\n",
       "function simpleKeys (original) {\n",
       "  return Object.keys(original).reduce(function (obj, key) {\n",
       "    if (typeof original[key] !== 'object')\n",
       "        obj[key] = original[key]\n",
       "    return obj;\n",
       "  }, {});\n",
       "}\n",
       "\n",
       "mpl.figure.prototype.mouse_event = function(event, name) {\n",
       "    var canvas_pos = mpl.findpos(event)\n",
       "\n",
       "    if (name === 'button_press')\n",
       "    {\n",
       "        this.canvas.focus();\n",
       "        this.canvas_div.focus();\n",
       "    }\n",
       "\n",
       "    var x = canvas_pos.x * mpl.ratio;\n",
       "    var y = canvas_pos.y * mpl.ratio;\n",
       "\n",
       "    this.send_message(name, {x: x, y: y, button: event.button,\n",
       "                             step: event.step,\n",
       "                             guiEvent: simpleKeys(event)});\n",
       "\n",
       "    /* This prevents the web browser from automatically changing to\n",
       "     * the text insertion cursor when the button is pressed.  We want\n",
       "     * to control all of the cursor setting manually through the\n",
       "     * 'cursor' event from matplotlib */\n",
       "    event.preventDefault();\n",
       "    return false;\n",
       "}\n",
       "\n",
       "mpl.figure.prototype._key_event_extra = function(event, name) {\n",
       "    // Handle any extra behaviour associated with a key event\n",
       "}\n",
       "\n",
       "mpl.figure.prototype.key_event = function(event, name) {\n",
       "\n",
       "    // Prevent repeat events\n",
       "    if (name == 'key_press')\n",
       "    {\n",
       "        if (event.which === this._key)\n",
       "            return;\n",
       "        else\n",
       "            this._key = event.which;\n",
       "    }\n",
       "    if (name == 'key_release')\n",
       "        this._key = null;\n",
       "\n",
       "    var value = '';\n",
       "    if (event.ctrlKey && event.which != 17)\n",
       "        value += \"ctrl+\";\n",
       "    if (event.altKey && event.which != 18)\n",
       "        value += \"alt+\";\n",
       "    if (event.shiftKey && event.which != 16)\n",
       "        value += \"shift+\";\n",
       "\n",
       "    value += 'k';\n",
       "    value += event.which.toString();\n",
       "\n",
       "    this._key_event_extra(event, name);\n",
       "\n",
       "    this.send_message(name, {key: value,\n",
       "                             guiEvent: simpleKeys(event)});\n",
       "    return false;\n",
       "}\n",
       "\n",
       "mpl.figure.prototype.toolbar_button_onclick = function(name) {\n",
       "    if (name == 'download') {\n",
       "        this.handle_save(this, null);\n",
       "    } else {\n",
       "        this.send_message(\"toolbar_button\", {name: name});\n",
       "    }\n",
       "};\n",
       "\n",
       "mpl.figure.prototype.toolbar_button_onmouseover = function(tooltip) {\n",
       "    this.message.textContent = tooltip;\n",
       "};\n",
       "mpl.toolbar_items = [[\"Home\", \"Reset original view\", \"fa fa-home icon-home\", \"home\"], [\"Back\", \"Back to  previous view\", \"fa fa-arrow-left icon-arrow-left\", \"back\"], [\"Forward\", \"Forward to next view\", \"fa fa-arrow-right icon-arrow-right\", \"forward\"], [\"\", \"\", \"\", \"\"], [\"Pan\", \"Pan axes with left mouse, zoom with right\", \"fa fa-arrows icon-move\", \"pan\"], [\"Zoom\", \"Zoom to rectangle\", \"fa fa-square-o icon-check-empty\", \"zoom\"], [\"\", \"\", \"\", \"\"], [\"Download\", \"Download plot\", \"fa fa-floppy-o icon-save\", \"download\"]];\n",
       "\n",
       "mpl.extensions = [\"eps\", \"jpeg\", \"pdf\", \"png\", \"ps\", \"raw\", \"svg\", \"tif\"];\n",
       "\n",
       "mpl.default_extension = \"png\";var comm_websocket_adapter = function(comm) {\n",
       "    // Create a \"websocket\"-like object which calls the given IPython comm\n",
       "    // object with the appropriate methods. Currently this is a non binary\n",
       "    // socket, so there is still some room for performance tuning.\n",
       "    var ws = {};\n",
       "\n",
       "    ws.close = function() {\n",
       "        comm.close()\n",
       "    };\n",
       "    ws.send = function(m) {\n",
       "        //console.log('sending', m);\n",
       "        comm.send(m);\n",
       "    };\n",
       "    // Register the callback with on_msg.\n",
       "    comm.on_msg(function(msg) {\n",
       "        //console.log('receiving', msg['content']['data'], msg);\n",
       "        // Pass the mpl event to the overridden (by mpl) onmessage function.\n",
       "        ws.onmessage(msg['content']['data'])\n",
       "    });\n",
       "    return ws;\n",
       "}\n",
       "\n",
       "mpl.mpl_figure_comm = function(comm, msg) {\n",
       "    // This is the function which gets called when the mpl process\n",
       "    // starts-up an IPython Comm through the \"matplotlib\" channel.\n",
       "\n",
       "    var id = msg.content.data.id;\n",
       "    // Get hold of the div created by the display call when the Comm\n",
       "    // socket was opened in Python.\n",
       "    var element = $(\"#\" + id);\n",
       "    var ws_proxy = comm_websocket_adapter(comm)\n",
       "\n",
       "    function ondownload(figure, format) {\n",
       "        window.open(figure.imageObj.src);\n",
       "    }\n",
       "\n",
       "    var fig = new mpl.figure(id, ws_proxy,\n",
       "                           ondownload,\n",
       "                           element.get(0));\n",
       "\n",
       "    // Call onopen now - mpl needs it, as it is assuming we've passed it a real\n",
       "    // web socket which is closed, not our websocket->open comm proxy.\n",
       "    ws_proxy.onopen();\n",
       "\n",
       "    fig.parent_element = element.get(0);\n",
       "    fig.cell_info = mpl.find_output_cell(\"<div id='\" + id + \"'></div>\");\n",
       "    if (!fig.cell_info) {\n",
       "        console.error(\"Failed to find cell for figure\", id, fig);\n",
       "        return;\n",
       "    }\n",
       "\n",
       "    var output_index = fig.cell_info[2]\n",
       "    var cell = fig.cell_info[0];\n",
       "\n",
       "};\n",
       "\n",
       "mpl.figure.prototype.handle_close = function(fig, msg) {\n",
       "    var width = fig.canvas.width/mpl.ratio\n",
       "    fig.root.unbind('remove')\n",
       "\n",
       "    // Update the output cell to use the data from the current canvas.\n",
       "    fig.push_to_output();\n",
       "    var dataURL = fig.canvas.toDataURL();\n",
       "    // Re-enable the keyboard manager in IPython - without this line, in FF,\n",
       "    // the notebook keyboard shortcuts fail.\n",
       "    IPython.keyboard_manager.enable()\n",
       "    $(fig.parent_element).html('<img src=\"' + dataURL + '\" width=\"' + width + '\">');\n",
       "    fig.close_ws(fig, msg);\n",
       "}\n",
       "\n",
       "mpl.figure.prototype.close_ws = function(fig, msg){\n",
       "    fig.send_message('closing', msg);\n",
       "    // fig.ws.close()\n",
       "}\n",
       "\n",
       "mpl.figure.prototype.push_to_output = function(remove_interactive) {\n",
       "    // Turn the data on the canvas into data in the output cell.\n",
       "    var width = this.canvas.width/mpl.ratio\n",
       "    var dataURL = this.canvas.toDataURL();\n",
       "    this.cell_info[1]['text/html'] = '<img src=\"' + dataURL + '\" width=\"' + width + '\">';\n",
       "}\n",
       "\n",
       "mpl.figure.prototype.updated_canvas_event = function() {\n",
       "    // Tell IPython that the notebook contents must change.\n",
       "    IPython.notebook.set_dirty(true);\n",
       "    this.send_message(\"ack\", {});\n",
       "    var fig = this;\n",
       "    // Wait a second, then push the new image to the DOM so\n",
       "    // that it is saved nicely (might be nice to debounce this).\n",
       "    setTimeout(function () { fig.push_to_output() }, 1000);\n",
       "}\n",
       "\n",
       "mpl.figure.prototype._init_toolbar = function() {\n",
       "    var fig = this;\n",
       "\n",
       "    var nav_element = $('<div/>')\n",
       "    nav_element.attr('style', 'width: 100%');\n",
       "    this.root.append(nav_element);\n",
       "\n",
       "    // Define a callback function for later on.\n",
       "    function toolbar_event(event) {\n",
       "        return fig.toolbar_button_onclick(event['data']);\n",
       "    }\n",
       "    function toolbar_mouse_event(event) {\n",
       "        return fig.toolbar_button_onmouseover(event['data']);\n",
       "    }\n",
       "\n",
       "    for(var toolbar_ind in mpl.toolbar_items){\n",
       "        var name = mpl.toolbar_items[toolbar_ind][0];\n",
       "        var tooltip = mpl.toolbar_items[toolbar_ind][1];\n",
       "        var image = mpl.toolbar_items[toolbar_ind][2];\n",
       "        var method_name = mpl.toolbar_items[toolbar_ind][3];\n",
       "\n",
       "        if (!name) { continue; };\n",
       "\n",
       "        var button = $('<button class=\"btn btn-default\" href=\"#\" title=\"' + name + '\"><i class=\"fa ' + image + ' fa-lg\"></i></button>');\n",
       "        button.click(method_name, toolbar_event);\n",
       "        button.mouseover(tooltip, toolbar_mouse_event);\n",
       "        nav_element.append(button);\n",
       "    }\n",
       "\n",
       "    // Add the status bar.\n",
       "    var status_bar = $('<span class=\"mpl-message\" style=\"text-align:right; float: right;\"/>');\n",
       "    nav_element.append(status_bar);\n",
       "    this.message = status_bar[0];\n",
       "\n",
       "    // Add the close button to the window.\n",
       "    var buttongrp = $('<div class=\"btn-group inline pull-right\"></div>');\n",
       "    var button = $('<button class=\"btn btn-mini btn-primary\" href=\"#\" title=\"Stop Interaction\"><i class=\"fa fa-power-off icon-remove icon-large\"></i></button>');\n",
       "    button.click(function (evt) { fig.handle_close(fig, {}); } );\n",
       "    button.mouseover('Stop Interaction', toolbar_mouse_event);\n",
       "    buttongrp.append(button);\n",
       "    var titlebar = this.root.find($('.ui-dialog-titlebar'));\n",
       "    titlebar.prepend(buttongrp);\n",
       "}\n",
       "\n",
       "mpl.figure.prototype._root_extra_style = function(el){\n",
       "    var fig = this\n",
       "    el.on(\"remove\", function(){\n",
       "\tfig.close_ws(fig, {});\n",
       "    });\n",
       "}\n",
       "\n",
       "mpl.figure.prototype._canvas_extra_style = function(el){\n",
       "    // this is important to make the div 'focusable\n",
       "    el.attr('tabindex', 0)\n",
       "    // reach out to IPython and tell the keyboard manager to turn it's self\n",
       "    // off when our div gets focus\n",
       "\n",
       "    // location in version 3\n",
       "    if (IPython.notebook.keyboard_manager) {\n",
       "        IPython.notebook.keyboard_manager.register_events(el);\n",
       "    }\n",
       "    else {\n",
       "        // location in version 2\n",
       "        IPython.keyboard_manager.register_events(el);\n",
       "    }\n",
       "\n",
       "}\n",
       "\n",
       "mpl.figure.prototype._key_event_extra = function(event, name) {\n",
       "    var manager = IPython.notebook.keyboard_manager;\n",
       "    if (!manager)\n",
       "        manager = IPython.keyboard_manager;\n",
       "\n",
       "    // Check for shift+enter\n",
       "    if (event.shiftKey && event.which == 13) {\n",
       "        this.canvas_div.blur();\n",
       "        event.shiftKey = false;\n",
       "        // Send a \"J\" for go to next cell\n",
       "        event.which = 74;\n",
       "        event.keyCode = 74;\n",
       "        manager.command_mode();\n",
       "        manager.handle_keydown(event);\n",
       "    }\n",
       "}\n",
       "\n",
       "mpl.figure.prototype.handle_save = function(fig, msg) {\n",
       "    fig.ondownload(fig, null);\n",
       "}\n",
       "\n",
       "\n",
       "mpl.find_output_cell = function(html_output) {\n",
       "    // Return the cell and output element which can be found *uniquely* in the notebook.\n",
       "    // Note - this is a bit hacky, but it is done because the \"notebook_saving.Notebook\"\n",
       "    // IPython event is triggered only after the cells have been serialised, which for\n",
       "    // our purposes (turning an active figure into a static one), is too late.\n",
       "    var cells = IPython.notebook.get_cells();\n",
       "    var ncells = cells.length;\n",
       "    for (var i=0; i<ncells; i++) {\n",
       "        var cell = cells[i];\n",
       "        if (cell.cell_type === 'code'){\n",
       "            for (var j=0; j<cell.output_area.outputs.length; j++) {\n",
       "                var data = cell.output_area.outputs[j];\n",
       "                if (data.data) {\n",
       "                    // IPython >= 3 moved mimebundle to data attribute of output\n",
       "                    data = data.data;\n",
       "                }\n",
       "                if (data['text/html'] == html_output) {\n",
       "                    return [cell, data, j];\n",
       "                }\n",
       "            }\n",
       "        }\n",
       "    }\n",
       "}\n",
       "\n",
       "// Register the function which deals with the matplotlib target/channel.\n",
       "// The kernel may be null if the page has been refreshed.\n",
       "if (IPython.notebook.kernel != null) {\n",
       "    IPython.notebook.kernel.comm_manager.register_target('matplotlib', mpl.mpl_figure_comm);\n",
       "}\n"
      ],
      "text/plain": [
       "<IPython.core.display.Javascript object>"
      ]
     },
     "metadata": {},
     "output_type": "display_data"
    },
    {
     "data": {
      "text/html": [
       "<img src=\"data:image/png;base64,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\" width=\"431.818172458775\">"
      ],
      "text/plain": [
       "<IPython.core.display.HTML object>"
      ]
     },
     "metadata": {},
     "output_type": "display_data"
    },
    {
     "data": {
      "text/plain": [
       "[<matplotlib.lines.Line2D at 0x116c84588>]"
      ]
     },
     "execution_count": 4,
     "metadata": {},
     "output_type": "execute_result"
    }
   ],
   "source": [
    "plt.plot([1, 2, 3], [3,4,5])"
   ]
  },
  {
   "cell_type": "code",
   "execution_count": 5,
   "metadata": {},
   "outputs": [
    {
     "data": {
      "text/plain": [
       "[<matplotlib.lines.Line2D at 0x1071fe0f0>]"
      ]
     },
     "execution_count": 5,
     "metadata": {},
     "output_type": "execute_result"
    }
   ],
   "source": [
    "plt.plot([1, 2, 3], [5,4,8])"
   ]
  },
  {
   "cell_type": "code",
   "execution_count": 7,
   "metadata": {},
   "outputs": [
    {
     "data": {
      "text/plain": [
       "[<matplotlib.lines.Line2D at 0x11715e6d8>]"
      ]
     },
     "execution_count": 7,
     "metadata": {},
     "output_type": "execute_result"
    },
    {
     "data": {
      "image/png": "[encoded data removed]",
      "text/plain": [
       "<Figure size 432x288 with 1 Axes>"
      ]
     },
     "metadata": {},
     "output_type": "display_data"
    }
   ],
   "source": [
    "%matplotlib inline\n",
    "plt.plot([1, 2, 3], [3,4,5])\n",
    "plt.plot([1, 2, 3], [5,4,8])"
   ]
  },
  {
   "cell_type": "markdown",
   "metadata": {},
   "source": [
    "## Basic elements - the hard way :("
   ]
  },
  {
   "cell_type": "code",
   "execution_count": null,
   "metadata": {
    "collapsed": true
   },
   "outputs": [],
   "source": [
    "# figure, axes, axis, artist "
   ]
  },
  {
   "cell_type": "code",
   "execution_count": 8,
   "metadata": {
    "collapsed": true
   },
   "outputs": [],
   "source": [
    "from matplotlib.figure import Figure\n",
    "from matplotlib.backends.backend_agg import FigureCanvasAgg"
   ]
  },
  {
   "cell_type": "code",
   "execution_count": 9,
   "metadata": {
    "collapsed": true
   },
   "outputs": [],
   "source": [
    "fig = Figure()\n",
    "canvas = FigureCanvasAgg(fig)\n",
    "ax = fig.add_subplot(1,1,1)\n",
    "\n",
    "ax.plot([1,2,3], [3, 2, 1])\n",
    "canvas.print_png('test.png')"
   ]
  },
  {
   "cell_type": "code",
   "execution_count": 10,
   "metadata": {
    "collapsed": true
   },
   "outputs": [],
   "source": [
    "! open test.png"
   ]
  },
  {
   "cell_type": "markdown",
   "metadata": {},
   "source": [
    "## Basic elements - the easy way :)"
   ]
  },
  {
   "cell_type": "code",
   "execution_count": 11,
   "metadata": {},
   "outputs": [
    {
     "data": {
      "text/plain": [
       "[<matplotlib.lines.Line2D at 0x117aeb898>]"
      ]
     },
     "execution_count": 11,
     "metadata": {},
     "output_type": "execute_result"
    },
    {
     "data": {
      "image/png": "[encoded data removed]",
      "text/plain": [
       "<Figure size 432x288 with 1 Axes>"
      ]
     },
     "metadata": {},
     "output_type": "display_data"
    }
   ],
   "source": [
    "plt.plot([1,2,3], [3, 2, 1])"
   ]
  },
  {
   "cell_type": "markdown",
   "metadata": {},
   "source": [
    "## Principle in visualization: data-ink ratio"
   ]
  },
  {
   "cell_type": "code",
   "execution_count": 12,
   "metadata": {
    "collapsed": true
   },
   "outputs": [],
   "source": [
    "%matplotlib inline"
   ]
  },
  {
   "cell_type": "code",
   "execution_count": 40,
   "metadata": {},
   "outputs": [
    {
     "data": {
      "text/plain": [
       "Text(0.5,1,'Test figure')"
      ]
     },
     "execution_count": 40,
     "metadata": {},
     "output_type": "execute_result"
    },
    {
     "data": {
      "image/png": "[encoded data removed]",
      "text/plain": [
       "<Figure size 432x288 with 1 Axes>"
      ]
     },
     "metadata": {},
     "output_type": "display_data"
    }
   ],
   "source": [
    "fig = plt.figure()\n",
    "ax = fig.add_subplot(1,1,1)\n",
    "rects = ax.bar([1,2,3,4,5], [1,2,4,8,16])\n",
    "ax.xaxis.set_visible(True)\n",
    "ax.yaxis.set_visible(False)\n",
    "ax.spines['bottom'].set_visible(False)\n",
    "ax.spines['top'].set_visible(False)\n",
    "ax.spines['left'].set_visible(False)\n",
    "ax.spines['right'].set_visible(False)\n",
    "ax.set_xticks([1,2,3,4,5])\n",
    "ax.set_xticklabels(['A', 'B', 'C', 'D', 'E'], fontdict={'fontsize': 20})\n",
    "\n",
    "for rect in rects:\n",
    "    height = rect.get_height()\n",
    "    ax.text(rect.get_x() + rect.get_width()/2.,\n",
    "            height + 0.05,\n",
    "            '%d' % int(height),\n",
    "            fontdict={'fontsize': 20},\n",
    "            withdash=False,\n",
    "            ha='center', va='bottom')\n",
    "\n",
    "a = rects[4]\n",
    "a.set_color('red')\n",
    "\n",
    "ax.set_title('Test figure', fontdict={'fontsize': '20'})\n",
    "# ax.set_title('Test figure')\n",
    "# plt.title('Test figure')"
   ]
  },
  {
   "cell_type": "code",
   "execution_count": 35,
   "metadata": {},
   "outputs": [
    {
     "data": {
      "text/plain": [
       "((4.6, 0), 4.6, 0, 16)"
      ]
     },
     "execution_count": 35,
     "metadata": {},
     "output_type": "execute_result"
    }
   ],
   "source": [
    "a.get_xy(), a.get_x(), a.get_y(), a.get_height()"
   ]
  },
  {
   "cell_type": "code",
   "execution_count": 36,
   "metadata": {},
   "outputs": [
    {
     "data": {
      "text/plain": [
       "(4.6, 16)"
      ]
     },
     "execution_count": 36,
     "metadata": {},
     "output_type": "execute_result"
    }
   ],
   "source": [
    "a.get_x(), a.get_height()"
   ]
  },
  {
   "cell_type": "code",
   "execution_count": null,
   "metadata": {
    "collapsed": true
   },
   "outputs": [],
   "source": [
    "# change color maps\n",
    "# plt.scatter([1,2,3], [2,4,6], c = [1,1,3], cmap=plt.get_cmap('flag_r'))"
   ]
  },
  {
   "cell_type": "code",
   "execution_count": null,
   "metadata": {
    "collapsed": true
   },
   "outputs": [],
   "source": [
    "# case study: https://archive.ics.uci.edu/ml/datasets/Abalone"
   ]
  },
  {
   "cell_type": "markdown",
   "metadata": {},
   "source": [
    "## Case 1. distribution"
   ]
  },
  {
   "cell_type": "code",
   "execution_count": null,
   "metadata": {
    "collapsed": true
   },
   "outputs": [],
   "source": [
    "# title, label, axis (orientation, font, ticks)\n",
    "# text, annotation, "
   ]
  },
  {
   "cell_type": "code",
   "execution_count": 41,
   "metadata": {},
   "outputs": [
    {
     "data": {
      "text/plain": [
       "([<matplotlib.patches.Wedge at 0x118648438>,\n",
       "  <matplotlib.patches.Wedge at 0x118648908>,\n",
       "  <matplotlib.patches.Wedge at 0x118648e48>],\n",
       " [Text(0.952628,0.55,''), Text(-0.55,0.952628,''), Text(1.02989e-07,-1.1,'')])"
      ]
     },
     "execution_count": 41,
     "metadata": {},
     "output_type": "execute_result"
    },
    {
     "data": {
      "image/png": "[encoded data removed]",
      "text/plain": [
       "<Figure size 432x288 with 1 Axes>"
      ]
     },
     "metadata": {},
     "output_type": "display_data"
    }
   ],
   "source": [
    "plt.pie([1,2,3])"
   ]
  },
  {
   "cell_type": "code",
   "execution_count": 45,
   "metadata": {},
   "outputs": [
    {
     "data": {
      "text/plain": [
       "<matplotlib.axes._subplots.AxesSubplot at 0x1187fb160>"
      ]
     },
     "execution_count": 45,
     "metadata": {},
     "output_type": "execute_result"
    },
    {
     "data": {
      "image/png": "[encoded data removed]",
      "text/plain": [
       "<Figure size 432x288 with 1 Axes>"
      ]
     },
     "metadata": {},
     "output_type": "display_data"
    }
   ],
   "source": [
    "pd.Series([1,2,3], index=['A', 'B', 'C'], name='My plot').plot.pie()"
   ]
  },
  {
   "cell_type": "code",
   "execution_count": null,
   "metadata": {
    "collapsed": true
   },
   "outputs": [],
   "source": [
    "# categorical & continuous"
   ]
  },
  {
   "cell_type": "code",
   "execution_count": null,
   "metadata": {
    "collapsed": true
   },
   "outputs": [],
   "source": [
    "# Step 1. create a figure"
   ]
  },
  {
   "cell_type": "code",
   "execution_count": null,
   "metadata": {
    "collapsed": true
   },
   "outputs": [],
   "source": [
    "# Step 2. beautify the figure"
   ]
  },
  {
   "cell_type": "code",
   "execution_count": 54,
   "metadata": {},
   "outputs": [
    {
     "data": {
      "image/png": "[encoded data removed]",
      "text/plain": [
       "<Figure size 864x360 with 2 Axes>"
      ]
     },
     "metadata": {},
     "output_type": "display_data"
    }
   ],
   "source": [
    "fig = plt.figure(figsize=[12, 5])\n",
    "ax1 = fig.add_subplot(1,2,1)\n",
    "ax2 = fig.add_subplot(1,2,2)\n",
    "\n",
    "pd.Series([1,2,3], index=['A', 'B', 'C'], name='My plot').plot.pie(ax=ax1)\n",
    "\n",
    "pd.Series([1,2,3], index=['A', 'B', 'C'], name='My plot').plot.bar(ax=ax2, title='SDf')\n",
    "plt.xlabel('SFSDF')\n",
    "\n",
    "plt.show()"
   ]
  },
  {
   "cell_type": "markdown",
   "metadata": {},
   "source": [
    "## Case 2. bi-variable relationship (continuous)"
   ]
  },
  {
   "cell_type": "code",
   "execution_count": null,
   "metadata": {
    "collapsed": true
   },
   "outputs": [],
   "source": [
    "# reference line, fill_between"
   ]
  },
  {
   "cell_type": "markdown",
   "metadata": {},
   "source": [
    "## Case 3. bi-variable relationship (categorical)"
   ]
  },
  {
   "cell_type": "code",
   "execution_count": null,
   "metadata": {
    "collapsed": true
   },
   "outputs": [],
   "source": [
    "# subplot "
   ]
  },
  {
   "cell_type": "code",
   "execution_count": null,
   "metadata": {
    "collapsed": true
   },
   "outputs": [],
   "source": []
  },
  {
   "cell_type": "markdown",
   "metadata": {},
   "source": [
    "# Seaborn"
   ]
  },
  {
   "cell_type": "markdown",
   "metadata": {},
   "source": [
    "## Case 1. distribution"
   ]
  },
  {
   "cell_type": "code",
   "execution_count": null,
   "metadata": {
    "collapsed": true
   },
   "outputs": [],
   "source": [
    "## distplot"
   ]
  },
  {
   "cell_type": "markdown",
   "metadata": {},
   "source": [
    "## Case 2: linear relationship"
   ]
  },
  {
   "cell_type": "code",
   "execution_count": null,
   "metadata": {
    "collapsed": true
   },
   "outputs": [],
   "source": [
    "## lmplot"
   ]
  },
  {
   "cell_type": "markdown",
   "metadata": {},
   "source": [
    "## Case 3. categorical data"
   ]
  },
  {
   "cell_type": "code",
   "execution_count": null,
   "metadata": {
    "collapsed": true
   },
   "outputs": [],
   "source": [
    "## boxplot, violionplot, "
   ]
  },
  {
   "cell_type": "code",
   "execution_count": null,
   "metadata": {
    "collapsed": true
   },
   "outputs": [],
   "source": []
  },
  {
   "cell_type": "markdown",
   "metadata": {},
   "source": [
    "# Plotly"
   ]
  },
  {
   "cell_type": "code",
   "execution_count": null,
   "metadata": {
    "collapsed": true
   },
   "outputs": [],
   "source": [
    "# use offline mode in notebook\n",
    "# basic plotting structure\n",
    "# great to create sharable html file"
   ]
  },
  {
   "cell_type": "code",
   "execution_count": null,
   "metadata": {
    "collapsed": true
   },
   "outputs": [],
   "source": [
    "# Data\n",
    "# Layout"
   ]
  },
  {
   "cell_type": "markdown",
   "metadata": {},
   "source": [
    "# A/B Testing"
   ]
  },
  {
   "cell_type": "code",
   "execution_count": null,
   "metadata": {
    "collapsed": true
   },
   "outputs": [],
   "source": [
    "# website\n",
    "# http://datalaus.com/en/\n",
    "# how to improve the conversion?"
   ]
  },
  {
   "cell_type": "markdown",
   "metadata": {
    "collapsed": true
   },
   "source": [
    "## Business need"
   ]
  },
  {
   "cell_type": "code",
   "execution_count": null,
   "metadata": {
    "collapsed": true
   },
   "outputs": [],
   "source": [
    "# what to achieve? "
   ]
  },
  {
   "cell_type": "markdown",
   "metadata": {},
   "source": [
    "## Design experiment"
   ]
  },
  {
   "cell_type": "code",
   "execution_count": null,
   "metadata": {
    "collapsed": true
   },
   "outputs": [],
   "source": [
    "# how to achieve?"
   ]
  },
  {
   "cell_type": "markdown",
   "metadata": {},
   "source": [
    "## Power analysis"
   ]
  },
  {
   "cell_type": "code",
   "execution_count": null,
   "metadata": {
    "collapsed": true
   },
   "outputs": [],
   "source": [
    "# estimate impact"
   ]
  },
  {
   "cell_type": "markdown",
   "metadata": {
    "collapsed": true
   },
   "source": [
    "## Analyze result"
   ]
  },
  {
   "cell_type": "code",
   "execution_count": null,
   "metadata": {
    "collapsed": true
   },
   "outputs": [],
   "source": [
    "# draw conclusion"
   ]
  }
 ],
 "metadata": {
  "anaconda-cloud": {},
  "kernelspec": {
   "display_name": "Python 3",
   "language": "python",
   "name": "python3"
  },
  "language_info": {
   "codemirror_mode": {
    "name": "ipython",
    "version": 3
   },
   "file_extension": ".py",
   "mimetype": "text/x-python",
   "name": "python",
   "nbconvert_exporter": "python",
   "pygments_lexer": "ipython3",
   "version": "3.6.6"
  }
 },
 "nbformat": 4,
 "nbformat_minor": 1
}
